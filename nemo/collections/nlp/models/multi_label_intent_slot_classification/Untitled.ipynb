{
 "cells": [
  {
   "cell_type": "markdown",
   "id": "278a0ea6",
   "metadata": {},
   "source": [
    "### Training\n",
    "---"
   ]
  },
  {
   "cell_type": "code",
   "execution_count": null,
   "id": "8e794767",
   "metadata": {
    "scrolled": true
   },
   "outputs": [],
   "source": [
    "from typing import Dict, List, Optional\n",
    "\n",
    "from nemo.collections import nlp as nemo_nlp\n",
    "from nemo.utils.exp_manager import exp_manager\n",
    "from nemo.utils import logging\n",
    "from nemo.collections.nlp.parts.utils_funcs import tensor2list\n",
    "\n",
    "import os\n",
    "import time\n",
    "\n",
    "import torch\n",
    "import pytorch_lightning as pl\n",
    "\n",
    "from omegaconf import OmegaConf\n",
    "\n",
    "DOCKER = False\n",
    "\n",
    "if DOCKER:\n",
    "    HOME_DIR = \"/workspace\"\n",
    "else:\n",
    "    HOME_DIR = \"/home/rchen/\"\n",
    "\n",
    "# directory with data converted to nemo format\n",
    "data_dir = os.path.join(HOME_DIR, \"multiatis\")\n",
    "\n",
    "run_name = \"test\"\n",
    "config_file = os.path.join(\"/home/rchen/NeMo/examples/nlp/multi-label-intent-slot-classification/conf/multi-label-intent-slot-classification.yaml\")\n",
    "config = OmegaConf.load(config_file)\n",
    "config.model.data_dir = data_dir\n",
    "config.model.validation_ds.prefix = \"dev\"\n",
    "config.model.test_ds.prefix = \"dev\"\n",
    "config.model.intent_loss_weight = 0.6\n",
    "config.model.class_balancing = \"weighted_loss\"\n",
    "config.model.head.num_output_layers = 2\n",
    "config.trainer.max_epochs = 5\n",
    "\n",
    "\n",
    "# checks if we have GPU available and uses it\n",
    "cuda = 1 if torch.cuda.is_available() else 0\n",
    "config.trainer.gpus = cuda\n",
    "\n",
    "# config.trainer.precision = 16 if torch.cuda.is_available() else 32\n",
    "config.trainer.precision = 32\n",
    "\n",
    "# for mixed precision training, uncomment the line below (precision should be set to 16 and amp_level to O1):\n",
    "# config.trainer.amp_level = 'O1'\n",
    "\n",
    "# remove distributed training flags\n",
    "config.trainer.accelerator = None\n",
    "\n",
    "# early_stop_callback = EarlyStopping(monitor='intent_f1', min_delta=1e-1, patience=10, verbose=True, mode='max')\n",
    "\n",
    "trainer = pl.Trainer(**config.trainer)\n",
    "config.exp_manager.exp_dir = os.path.join(HOME_DIR, \"output/\" + run_name)\n",
    "config.exp_manager.create_checkpoint_callback = True\n",
    "config.exp_manager.version = time.strftime('%Y-%m-%d_%H-%M-%S')\n",
    "\n",
    "exp_dir = exp_manager(trainer, config.get(\"exp_manager\", None))\n",
    "model = nemo_nlp.models.MultiLabelIntentSlotClassificationModel(config.model, trainer=trainer)\n",
    "trainer.fit(model)"
   ]
  },
  {
   "cell_type": "markdown",
   "id": "6a690a70",
   "metadata": {},
   "source": [
    "### Evaluation\n",
    "---"
   ]
  },
  {
   "cell_type": "code",
   "execution_count": null,
   "id": "216f0851",
   "metadata": {
    "scrolled": true
   },
   "outputs": [],
   "source": [
    "# extract the path of the best checkpoint from the training, you may update it to any other saved checkpoint file\n",
    "checkpoint_path = trainer.checkpoint_callback.best_model_path\n",
    "\n",
    "eval_model= nemo_nlp.models.MultiLabelIntentSlotClassificationModel.restore_from('/home/rchen/output/test/MultiLabelIntentSlot/2022-01-21_08-38-23/checkpoints/MultiLabelIntentSlot.nemo')\n",
    "\n",
    "# load the model from this checkpoint\n",
    "#eval_model = nemo_nlp.models.MultiLabelIntentSlotClassificationModel.load_from_checkpoint(checkpoint_path=checkpoint_path)"
   ]
  },
  {
   "cell_type": "code",
   "execution_count": null,
   "id": "bb7391c0",
   "metadata": {
    "scrolled": true
   },
   "outputs": [],
   "source": [
    "eval_model"
   ]
  },
  {
   "cell_type": "code",
   "execution_count": null,
   "id": "7a35edde",
   "metadata": {
    "scrolled": true
   },
   "outputs": [],
   "source": [
    "queries = [\n",
    "    'i would like to find a flight from charlotte to las vegas that makes a stop in st. louis',\n",
    "    'on april first i need a ticket from tacoma to san jose departing before 7 am',\n",
    "    'how much is the limousine service in boston',\n",
    "    'How do I fly to China'\n",
    "]\n",
    "\n",
    "pred_intents, pred_slots = eval_model.predict_from_examples(queries, config.model.test_ds)\n",
    "logging.info('The prediction results of some sample queries with the trained model:')\n",
    "\n",
    "    \n",
    "for query, intent in zip(queries, pred_intents):\n",
    "    logging.info(f'Query : {query}')\n",
    "    logging.info(f'Predicted Intent: {intent}')\n"
   ]
  },
  {
   "cell_type": "code",
   "execution_count": null,
   "id": "96b7df39",
   "metadata": {
    "scrolled": true
   },
   "outputs": [],
   "source": [
    "print(config)"
   ]
  },
  {
   "cell_type": "code",
   "execution_count": null,
   "id": "57250c74",
   "metadata": {
    "scrolled": true
   },
   "outputs": [],
   "source": [
    "config.keys()"
   ]
  },
  {
   "cell_type": "code",
   "execution_count": null,
   "id": "571c52a2",
   "metadata": {
    "scrolled": true
   },
   "outputs": [],
   "source": [
    "checkpoint_path"
   ]
  },
  {
   "cell_type": "code",
   "execution_count": null,
   "id": "c3620c40",
   "metadata": {
    "scrolled": true
   },
   "outputs": [],
   "source": [
    "print(config_file)"
   ]
  },
  {
   "cell_type": "code",
   "execution_count": null,
   "id": "32da13b4",
   "metadata": {
    "scrolled": true
   },
   "outputs": [],
   "source": [
    "config = OmegaConf.load(config_file)"
   ]
  },
  {
   "cell_type": "code",
   "execution_count": null,
   "id": "7c9b2a95",
   "metadata": {
    "scrolled": true
   },
   "outputs": [],
   "source": [
    "checkpoint_path"
   ]
  },
  {
   "cell_type": "code",
   "execution_count": null,
   "id": "37248402",
   "metadata": {
    "scrolled": true
   },
   "outputs": [],
   "source": [
    "!ls /home/rchen/output/test/MultiLabelIntentSlot/"
   ]
  },
  {
   "cell_type": "code",
   "execution_count": null,
   "id": "f602cfe3",
   "metadata": {
    "scrolled": true
   },
   "outputs": [],
   "source": [
    "!ls /home/rchen/output/test/MultiLabelIntentSlot/2022-01-20_11-28-12/checkpoints/MultiLabelIntentSlot.nemo"
   ]
  },
  {
   "cell_type": "markdown",
   "id": "5e0ce81c",
   "metadata": {},
   "source": [
    "### Torch Tensor Experiments \n",
    "---"
   ]
  },
  {
   "cell_type": "code",
   "execution_count": null,
   "id": "febc727e",
   "metadata": {
    "scrolled": true
   },
   "outputs": [],
   "source": [
    "import torch"
   ]
  },
  {
   "cell_type": "code",
   "execution_count": null,
   "id": "45b95506",
   "metadata": {},
   "outputs": [],
   "source": [
    "lst = [[1,3,1], [4,5,6], [7,8,9]]"
   ]
  },
  {
   "cell_type": "code",
   "execution_count": null,
   "id": "9b4b7739",
   "metadata": {},
   "outputs": [],
   "source": [
    "a = torch.tensor(lst)"
   ]
  },
  {
   "cell_type": "code",
   "execution_count": null,
   "id": "463becbc",
   "metadata": {},
   "outputs": [],
   "source": [
    "a"
   ]
  },
  {
   "cell_type": "code",
   "execution_count": null,
   "id": "64236352",
   "metadata": {},
   "outputs": [],
   "source": [
    "a.t()"
   ]
  },
  {
   "cell_type": "code",
   "execution_count": null,
   "id": "43689452",
   "metadata": {},
   "outputs": [],
   "source": [
    "a.t()[0]"
   ]
  },
  {
   "cell_type": "code",
   "execution_count": null,
   "id": "ad84171c",
   "metadata": {},
   "outputs": [],
   "source": [
    "for x in a.t()[0]:\n",
    "    print(x == torch.tensor(1))"
   ]
  },
  {
   "cell_type": "code",
   "execution_count": null,
   "id": "224e4e26",
   "metadata": {},
   "outputs": [],
   "source": [
    "a"
   ]
  },
  {
   "cell_type": "code",
   "execution_count": null,
   "id": "d663e9ca",
   "metadata": {},
   "outputs": [],
   "source": [
    "bst = [[1,2,1], [1,5,1], [1,8,1]]"
   ]
  },
  {
   "cell_type": "code",
   "execution_count": null,
   "id": "659e8e72",
   "metadata": {},
   "outputs": [],
   "source": [
    "b = torch.tensor(bst)"
   ]
  },
  {
   "cell_type": "code",
   "execution_count": null,
   "id": "6fabd1a0",
   "metadata": {},
   "outputs": [],
   "source": [
    "current_label = a[0]\n",
    "labels_predicted = b[0]"
   ]
  },
  {
   "cell_type": "code",
   "execution_count": null,
   "id": "2c156c9b",
   "metadata": {},
   "outputs": [],
   "source": [
    "current_label"
   ]
  },
  {
   "cell_type": "code",
   "execution_count": null,
   "id": "4663a3c7",
   "metadata": {},
   "outputs": [],
   "source": [
    "labels_predicted"
   ]
  },
  {
   "cell_type": "code",
   "execution_count": null,
   "id": "aa42cabd",
   "metadata": {},
   "outputs": [],
   "source": [
    "(current_label == labels_predicted)[current_label == 1].sum()"
   ]
  },
  {
   "cell_type": "code",
   "execution_count": null,
   "id": "d4816a6f",
   "metadata": {},
   "outputs": [],
   "source": [
    "(labels_predicted[current_label] == current_label[labels_predicted]"
   ]
  },
  {
   "cell_type": "code",
   "execution_count": null,
   "id": "e9fc1724",
   "metadata": {},
   "outputs": [],
   "source": [
    "current_label"
   ]
  },
  {
   "cell_type": "code",
   "execution_count": null,
   "id": "5ec208fe",
   "metadata": {},
   "outputs": [],
   "source": [
    "labels_predicted"
   ]
  },
  {
   "cell_type": "code",
   "execution_count": null,
   "id": "e11e017d",
   "metadata": {},
   "outputs": [],
   "source": [
    "a[0]"
   ]
  },
  {
   "cell_type": "code",
   "execution_count": null,
   "id": "809e095a",
   "metadata": {},
   "outputs": [],
   "source": [
    "a[0][current_label]"
   ]
  },
  {
   "cell_type": "code",
   "execution_count": null,
   "id": "45349bd3",
   "metadata": {},
   "outputs": [],
   "source": [
    "labels_predicted[current_label]"
   ]
  },
  {
   "cell_type": "code",
   "execution_count": null,
   "id": "415dfcd3",
   "metadata": {},
   "outputs": [],
   "source": [
    "current_label[labels_predicted]"
   ]
  },
  {
   "cell_type": "code",
   "execution_count": null,
   "id": "4346583d",
   "metadata": {},
   "outputs": [],
   "source": [
    "l = [1,2,3]\n",
    "c = [1,4,3]\n",
    "d = torch.tensor(l) == 1\n",
    "e = torch.tensor(c) == 1"
   ]
  },
  {
   "cell_type": "code",
   "execution_count": null,
   "id": "3550bf12",
   "metadata": {},
   "outputs": [],
   "source": [
    "d == 1"
   ]
  },
  {
   "cell_type": "code",
   "execution_count": null,
   "id": "2073df15",
   "metadata": {},
   "outputs": [],
   "source": [
    "e == 1"
   ]
  },
  {
   "cell_type": "code",
   "execution_count": null,
   "id": "13cdcc52",
   "metadata": {},
   "outputs": [],
   "source": [
    "(d == e)[d]"
   ]
  },
  {
   "cell_type": "code",
   "execution_count": null,
   "id": "c5a3389d",
   "metadata": {},
   "outputs": [],
   "source": [
    "e"
   ]
  },
  {
   "cell_type": "code",
   "execution_count": null,
   "id": "ed2ccef1",
   "metadata": {},
   "outputs": [],
   "source": [
    "d"
   ]
  },
  {
   "cell_type": "code",
   "execution_count": null,
   "id": "45af4b36",
   "metadata": {},
   "outputs": [],
   "source": []
  }
 ],
 "metadata": {
  "kernelspec": {
   "display_name": "Python 3 (ipykernel)",
   "language": "python",
   "name": "python3"
  },
  "language_info": {
   "codemirror_mode": {
    "name": "ipython",
    "version": 3
   },
   "file_extension": ".py",
   "mimetype": "text/x-python",
   "name": "python",
   "nbconvert_exporter": "python",
   "pygments_lexer": "ipython3",
   "version": "3.7.7"
  }
 },
 "nbformat": 4,
 "nbformat_minor": 5
}
