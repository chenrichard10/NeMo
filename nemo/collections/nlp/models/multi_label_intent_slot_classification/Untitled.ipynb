{
 "cells": [
  {
   "cell_type": "markdown",
   "id": "1a26edfa",
   "metadata": {},
   "source": [
    "### Training\n",
    "---"
   ]
  },
  {
   "cell_type": "code",
   "execution_count": 3,
   "id": "0742a90b",
   "metadata": {},
   "outputs": [
    {
     "name": "stderr",
     "output_type": "stream",
     "text": [
      "[NeMo W 2022-01-20 12:27:01 nemo_logging:349] /home/rchen/anaconda3/envs/mynewenv/lib/python3.7/site-packages/pytorch_lightning/loops/epoch/training_epoch_loop.py:49: LightningDeprecationWarning: Setting `max_steps = None` is deprecated in v1.5 and will no longer be supported in v1.7. Use `max_steps = -1` instead.\n",
      "      \"Setting `max_steps = None` is deprecated in v1.5 and will no longer be supported in v1.7.\"\n",
      "    \n",
      "[NeMo W 2022-01-20 12:27:01 nemo_logging:349] /home/rchen/anaconda3/envs/mynewenv/lib/python3.7/site-packages/pytorch_lightning/trainer/connectors/callback_connector.py:148: LightningDeprecationWarning: Setting `Trainer(checkpoint_callback=False)` is deprecated in v1.5 and will be removed in v1.7. Please consider using `Trainer(enable_checkpointing=False)`.\n",
      "      f\"Setting `Trainer(checkpoint_callback={checkpoint_callback})` is deprecated in v1.5 and will \"\n",
      "    \n",
      "GPU available: True, used: True\n",
      "TPU available: False, using: 0 TPU cores\n",
      "IPU available: False, using: 0 IPUs\n"
     ]
    },
    {
     "name": "stdout",
     "output_type": "stream",
     "text": [
      "[NeMo I 2022-01-20 12:27:01 exp_manager:283] Experiments will be logged at /home/rchen/output/test/MultiLabelIntentSlot/2022-01-20_12-27-01\n"
     ]
    },
    {
     "name": "stderr",
     "output_type": "stream",
     "text": [
      "[NeMo W 2022-01-20 12:27:01 exp_manager:880] The checkpoint callback was told to monitor a validation value and trainer's max_steps was set to -1. Please ensure that max_steps will run for at least 1 epochs to ensure that checkpointing will not error out.\n",
      "[NeMo W 2022-01-20 12:27:01 nemo_logging:349] /home/rchen/anaconda3/envs/mynewenv/lib/python3.7/site-packages/pytorch_lightning/callbacks/model_checkpoint.py:244: LightningDeprecationWarning: `ModelCheckpoint(every_n_val_epochs)` is deprecated in v1.4 and will be removed in v1.6. Please use `every_n_epochs` instead.\n",
      "      \"`ModelCheckpoint(every_n_val_epochs)` is deprecated in v1.4 and will be removed in v1.6.\"\n",
      "    \n"
     ]
    },
    {
     "name": "stdout",
     "output_type": "stream",
     "text": [
      "[NeMo I 2022-01-20 12:27:02 tokenizer_utils:125] Getting HuggingFace AutoTokenizer with pretrained_model_name: bert-base-uncased, vocab_file: None, special_tokens_dict: {}, and use_fast: False\n"
     ]
    },
    {
     "name": "stderr",
     "output_type": "stream",
     "text": [
      "Using eos_token, but it is not set yet.\n",
      "Using bos_token, but it is not set yet.\n"
     ]
    },
    {
     "name": "stdout",
     "output_type": "stream",
     "text": [
      "[NeMo I 2022-01-20 12:27:05 multi_label_intent_slot_classification_descriptor:87]  Stats calculating for train mode...\n",
      "[NeMo I 2022-01-20 12:27:06 multi_label_intent_slot_classification_descriptor:113] Three most popular intents in train mode:\n",
      "[NeMo I 2022-01-20 12:27:06 data_preprocessing:194] label: (0, 0, 0, 0, 0, 1, 0, 0, 0, 0, 0, 0, 0, 0, 0, 0, 0), 3309 out of 4478 (73.89%).\n",
      "[NeMo I 2022-01-20 12:27:06 data_preprocessing:194] label: (1, 0, 0, 0, 0, 0, 0, 0, 0, 0, 0, 0, 0, 0, 0, 0, 0), 385 out of 4478 (8.60%).\n",
      "[NeMo I 2022-01-20 12:27:06 data_preprocessing:194] label: (0, 0, 0, 0, 0, 0, 0, 0, 0, 0, 1, 0, 0, 0, 0, 0, 0), 230 out of 4478 (5.14%).\n",
      "[NeMo I 2022-01-20 12:27:06 multi_label_intent_slot_classification_descriptor:119] Three most popular slots in train mode:\n",
      "[NeMo I 2022-01-20 12:27:06 data_preprocessing:194] label: 101, 32066 out of 50497 (63.50%).\n",
      "[NeMo I 2022-01-20 12:27:06 data_preprocessing:194] label: 4, 3919 out of 50497 (7.76%).\n",
      "[NeMo I 2022-01-20 12:27:06 data_preprocessing:194] label: 43, 3892 out of 50497 (7.71%).\n",
      "[NeMo I 2022-01-20 12:27:06 multi_label_intent_slot_classification_descriptor:122] Total Number of Intents: 4478\n",
      "[NeMo I 2022-01-20 12:27:06 multi_label_intent_slot_classification_descriptor:123] Intent Label Frequencies: {(0, 0, 0, 0, 0, 1, 0, 0, 0, 0, 0, 0, 0, 0, 0, 0, 0): 3309, (1, 0, 0, 0, 0, 0, 0, 0, 0, 0, 0, 0, 0, 0, 0, 0, 0): 385, (0, 0, 0, 0, 0, 0, 0, 0, 0, 0, 1, 0, 0, 0, 0, 0, 0): 230, (0, 0, 0, 0, 0, 0, 1, 0, 0, 0, 0, 0, 0, 0, 0, 0, 0): 139, (0, 0, 0, 0, 0, 0, 0, 0, 1, 0, 0, 0, 0, 0, 0, 0, 0): 130, (0, 0, 0, 0, 0, 0, 0, 0, 0, 0, 0, 1, 0, 0, 0, 0, 0): 70, (0, 0, 0, 0, 0, 0, 0, 0, 0, 0, 0, 0, 0, 0, 1, 0, 0): 45, (0, 0, 0, 0, 1, 0, 0, 0, 0, 0, 0, 0, 0, 0, 0, 0, 0): 41, (1, 0, 0, 0, 0, 1, 0, 0, 0, 0, 0, 0, 0, 0, 0, 0, 0): 19, (0, 0, 0, 1, 0, 0, 0, 0, 0, 0, 0, 0, 0, 0, 0, 0, 0): 18, (0, 0, 0, 0, 0, 0, 0, 0, 0, 0, 0, 0, 0, 0, 0, 1, 0): 17, (0, 0, 0, 0, 0, 0, 0, 1, 0, 0, 0, 0, 0, 0, 0, 0, 0): 17, (0, 1, 0, 0, 0, 0, 0, 0, 0, 0, 0, 0, 0, 0, 0, 0, 0): 15, (0, 0, 0, 0, 0, 0, 0, 0, 0, 0, 0, 0, 0, 1, 0, 0, 0): 15, (0, 0, 0, 0, 0, 0, 0, 0, 0, 0, 0, 0, 0, 0, 0, 0, 1): 12, (0, 0, 0, 0, 0, 0, 0, 0, 0, 1, 0, 0, 0, 0, 0, 0, 0): 6, (0, 0, 1, 0, 0, 0, 0, 0, 0, 0, 0, 0, 0, 0, 0, 0, 0): 5, (0, 0, 0, 0, 0, 0, 1, 0, 0, 0, 0, 0, 0, 0, 0, 0, 1): 2, (0, 0, 0, 0, 0, 1, 0, 0, 0, 0, 0, 1, 0, 0, 0, 0, 1): 1, (0, 0, 0, 0, 0, 0, 0, 0, 0, 0, 0, 0, 1, 0, 0, 0, 0): 1, (0, 1, 0, 0, 0, 0, 0, 0, 0, 0, 1, 0, 0, 0, 0, 0, 0): 1}\n",
      "[NeMo I 2022-01-20 12:27:06 multi_label_intent_slot_classification_descriptor:124] Total Number of Slots: 50497\n",
      "[NeMo I 2022-01-20 12:27:06 multi_label_intent_slot_classification_descriptor:125] Slots Label Frequencies: {101: 32066, 4: 3919, 43: 3892, 95: 987, 90: 785, 87: 639, 58: 632, 3: 521, 99: 379, 2: 355, 68: 339, 16: 327, 91: 323, 61: 314, 94: 311, 12: 289, 78: 283, 75: 264, 111: 218, 112: 204, 69: 194, 70: 191, 48: 173, 64: 164, 25: 149, 30: 143, 6: 127, 28: 107, 8: 97, 85: 78, 41: 78, 38: 76, 18: 76, 113: 75, 55: 73, 105: 70, 23: 63, 17: 59, 29: 59, 20: 51, 96: 50, 71: 49, 1: 49, 114: 46, 24: 46, 117: 45, 59: 45, 104: 43, 110: 43, 66: 43, 26: 41, 86: 41, 40: 40, 88: 37, 79: 36, 63: 35, 77: 35, 37: 35, 89: 34, 33: 34, 31: 30, 50: 29, 54: 26, 13: 25, 74: 24, 80: 24, 35: 21, 14: 21, 7: 21, 9: 18, 52: 17, 109: 17, 102: 16, 76: 16, 53: 15, 107: 14, 81: 13, 42: 12, 106: 12, 82: 12, 84: 10, 22: 9, 34: 9, 115: 8, 27: 8, 65: 7, 19: 7, 62: 6, 0: 6, 97: 5, 118: 5, 10: 4, 45: 3, 56: 3, 11: 3, 92: 3, 15: 3, 57: 3, 108: 2, 100: 2, 60: 2, 51: 2, 98: 2, 44: 2, 72: 2, 21: 2, 47: 2, 32: 2, 116: 2, 49: 2, 36: 2, 5: 1, 93: 1, 39: 1, 83: 1, 46: 1, 73: 1, 119: 1, 67: 1, 103: 1}\n",
      "[NeMo I 2022-01-20 12:27:06 multi_label_intent_slot_classification_descriptor:129] Intent Weights: {(0, 0, 0, 0, 0, 1, 0, 0, 0, 0, 0, 0, 0, 0, 0, 0, 0): 0.06444185410640534, (1, 0, 0, 0, 0, 0, 0, 0, 0, 0, 0, 0, 0, 0, 0, 0, 0): 0.553865182436611, (0, 0, 0, 0, 0, 0, 0, 0, 0, 0, 1, 0, 0, 0, 0, 0, 0): 0.9271221532091097, (0, 0, 0, 0, 0, 0, 1, 0, 0, 0, 0, 0, 0, 0, 0, 0, 0): 1.5340870161014046, (0, 0, 0, 0, 0, 0, 0, 0, 1, 0, 0, 0, 0, 0, 0, 0, 0): 1.6402930402930402, (0, 0, 0, 0, 0, 0, 0, 0, 0, 0, 0, 1, 0, 0, 0, 0, 0): 3.0462585034013605, (0, 0, 0, 0, 0, 0, 0, 0, 0, 0, 0, 0, 0, 0, 1, 0, 0): 4.738624338624339, (0, 0, 0, 0, 1, 0, 0, 0, 0, 0, 0, 0, 0, 0, 0, 0, 0): 5.200929152148665, (1, 0, 0, 0, 0, 1, 0, 0, 0, 0, 0, 0, 0, 0, 0, 0, 0): 11.223057644110275, (0, 0, 0, 1, 0, 0, 0, 0, 0, 0, 0, 0, 0, 0, 0, 0, 0): 11.846560846560847, (0, 0, 0, 0, 0, 0, 0, 0, 0, 0, 0, 0, 0, 0, 0, 1, 0): 12.543417366946779, (0, 0, 0, 0, 0, 0, 0, 1, 0, 0, 0, 0, 0, 0, 0, 0, 0): 12.543417366946779, (0, 1, 0, 0, 0, 0, 0, 0, 0, 0, 0, 0, 0, 0, 0, 0, 0): 14.215873015873015, (0, 0, 0, 0, 0, 0, 0, 0, 0, 0, 0, 0, 0, 1, 0, 0, 0): 14.215873015873015, (0, 0, 0, 0, 0, 0, 0, 0, 0, 0, 0, 0, 0, 0, 0, 0, 1): 17.76984126984127, (0, 0, 0, 0, 0, 0, 0, 0, 0, 1, 0, 0, 0, 0, 0, 0, 0): 35.53968253968254, (0, 0, 1, 0, 0, 0, 0, 0, 0, 0, 0, 0, 0, 0, 0, 0, 0): 42.647619047619045, (0, 0, 0, 0, 0, 0, 1, 0, 0, 0, 0, 0, 0, 0, 0, 0, 1): 106.61904761904762, (0, 0, 0, 0, 0, 1, 0, 0, 0, 0, 0, 1, 0, 0, 0, 0, 1): 213.23809523809524, (0, 0, 0, 0, 0, 0, 0, 0, 0, 0, 0, 0, 1, 0, 0, 0, 0): 213.23809523809524, (0, 1, 0, 0, 0, 0, 0, 0, 0, 0, 1, 0, 0, 0, 0, 0, 0): 213.23809523809524}\n",
      "[NeMo I 2022-01-20 12:27:06 multi_label_intent_slot_classification_descriptor:131] Slot Weights: {101: 0.013123193829393542, 4: 0.10737645657905928, 43: 0.10812136005481329, 95: 0.4263508949679162, 90: 0.5360615711252654, 87: 0.6585419926969223, 58: 0.665835970464135, 3: 0.8076935380678183, 99: 1.1103122251539137, 2: 1.18537558685446, 68: 1.2413225172074729, 16: 1.286875637104995, 91: 1.30281217750258, 61: 1.3401539278131636, 94: 1.3530814576634513, 12: 1.4560841983852364, 78: 1.4869552414605418, 75: 1.5939709595959597, 111: 1.9303134556574923, 112: 2.062785947712418, 69: 2.169115120274914, 70: 2.2031849912739965, 48: 2.432418111753372, 64: 2.5659044715447155, 25: 2.8242170022371367, 30: 2.9427156177156175, 6: 3.3134514435695537, 28: 3.9327881619937695, 8: 4.338230240549828, 85: 5.394978632478632, 41: 5.394978632478632, 38: 5.5369517543859645, 18: 5.5369517543859645, 113: 5.610777777777778, 55: 5.764497716894978, 105: 6.011547619047619, 23: 6.679497354497355, 17: 7.132344632768362, 29: 7.132344632768362, 20: 8.251143790849673, 96: 8.416166666666667, 71: 8.587925170068027, 1: 8.587925170068027, 114: 9.148007246376812, 24: 9.148007246376812, 117: 9.351296296296296, 59: 9.351296296296296, 104: 9.786240310077519, 110: 9.786240310077519, 66: 9.786240310077519, 26: 10.263617886178862, 86: 10.263617886178862, 40: 10.520208333333333, 88: 11.373198198198198, 79: 11.68912037037037, 63: 12.023095238095237, 77: 12.023095238095237, 37: 12.023095238095237, 89: 12.37671568627451, 33: 12.37671568627451, 31: 14.026944444444444, 50: 14.510632183908045, 54: 16.184935897435896, 13: 16.832333333333334, 74: 17.533680555555556, 80: 17.533680555555556, 35: 20.038492063492065, 14: 20.038492063492065, 7: 20.038492063492065, 9: 23.37824074074074, 52: 24.75343137254902, 109: 24.75343137254902, 102: 26.300520833333334, 76: 26.300520833333334, 53: 28.05388888888889, 107: 30.057738095238093, 81: 32.36987179487179, 42: 35.06736111111111, 106: 35.06736111111111, 82: 35.06736111111111, 84: 42.08083333333333, 22: 46.75648148148148, 34: 46.75648148148148, 115: 52.60104166666667, 27: 52.60104166666667, 65: 60.11547619047619, 19: 60.11547619047619, 62: 70.13472222222222, 0: 70.13472222222222, 97: 84.16166666666666, 118: 84.16166666666666, 10: 105.20208333333333, 45: 140.26944444444445, 56: 140.26944444444445, 11: 140.26944444444445, 92: 140.26944444444445, 15: 140.26944444444445, 57: 140.26944444444445, 108: 210.40416666666667, 100: 210.40416666666667, 60: 210.40416666666667, 51: 210.40416666666667, 98: 210.40416666666667, 44: 210.40416666666667, 72: 210.40416666666667, 21: 210.40416666666667, 47: 210.40416666666667, 32: 210.40416666666667, 116: 210.40416666666667, 49: 210.40416666666667, 36: 210.40416666666667, 5: 420.80833333333334, 93: 420.80833333333334, 39: 420.80833333333334, 83: 420.80833333333334, 46: 420.80833333333334, 73: 420.80833333333334, 119: 420.80833333333334, 67: 420.80833333333334, 103: 420.80833333333334}\n"
     ]
    },
    {
     "name": "stdout",
     "output_type": "stream",
     "text": [
      "[NeMo I 2022-01-20 12:27:06 multi_label_intent_slot_classification_descriptor:87]  Stats calculating for dev mode...\n",
      "[NeMo I 2022-01-20 12:27:06 multi_label_intent_slot_classification_descriptor:113] Three most popular intents in dev mode:\n",
      "[NeMo I 2022-01-20 12:27:06 data_preprocessing:194] label: (0, 0, 0, 0, 0, 1, 0, 0, 0, 0, 0, 0, 0, 0, 0, 0, 0), 357 out of 500 (71.40%).\n",
      "[NeMo I 2022-01-20 12:27:06 data_preprocessing:194] label: (1, 0, 0, 0, 0, 0, 0, 0, 0, 0, 0, 0, 0, 0, 0, 0, 0), 39 out of 500 (7.80%).\n",
      "[NeMo I 2022-01-20 12:27:06 data_preprocessing:194] label: (0, 0, 0, 0, 0, 0, 0, 0, 0, 0, 1, 0, 0, 0, 0, 0, 0), 25 out of 500 (5.00%).\n",
      "[NeMo I 2022-01-20 12:27:06 multi_label_intent_slot_classification_descriptor:119] Three most popular slots in dev mode:\n",
      "[NeMo I 2022-01-20 12:27:06 data_preprocessing:194] label: 101, 3604 out of 5703 (63.19%).\n",
      "[NeMo I 2022-01-20 12:27:06 data_preprocessing:194] label: 43, 434 out of 5703 (7.61%).\n",
      "[NeMo I 2022-01-20 12:27:06 data_preprocessing:194] label: 4, 424 out of 5703 (7.43%).\n",
      "[NeMo I 2022-01-20 12:27:06 multi_label_intent_slot_classification_descriptor:122] Total Number of Intents: 500\n",
      "[NeMo I 2022-01-20 12:27:06 multi_label_intent_slot_classification_descriptor:123] Intent Label Frequencies: {(0, 0, 0, 0, 0, 1, 0, 0, 0, 0, 0, 0, 0, 0, 0, 0, 0): 357, (1, 0, 0, 0, 0, 0, 0, 0, 0, 0, 0, 0, 0, 0, 0, 0, 0): 39, (0, 0, 0, 0, 0, 0, 0, 0, 0, 0, 1, 0, 0, 0, 0, 0, 0): 25, (0, 0, 0, 0, 0, 0, 1, 0, 0, 0, 0, 0, 0, 0, 0, 0, 0): 18, (0, 0, 0, 0, 0, 0, 0, 0, 1, 0, 0, 0, 0, 0, 0, 0, 0): 17, (0, 0, 0, 0, 0, 0, 0, 0, 0, 0, 0, 1, 0, 0, 0, 0, 0): 11, (0, 0, 0, 0, 1, 0, 0, 0, 0, 0, 0, 0, 0, 0, 0, 0, 0): 10, (0, 0, 0, 0, 0, 0, 0, 0, 0, 0, 0, 0, 0, 0, 1, 0, 0): 9, (0, 0, 0, 0, 0, 0, 0, 0, 0, 0, 0, 0, 0, 0, 0, 1, 0): 3, (0, 1, 0, 0, 0, 0, 0, 0, 0, 0, 0, 0, 0, 0, 0, 0, 0): 3, (0, 0, 0, 0, 0, 0, 0, 1, 0, 0, 0, 0, 0, 0, 0, 0, 0): 3, (1, 0, 0, 0, 0, 1, 0, 0, 0, 0, 0, 0, 0, 0, 0, 0, 0): 2, (0, 0, 1, 0, 0, 0, 0, 0, 0, 0, 0, 0, 0, 0, 0, 0, 0): 1, (0, 0, 0, 0, 0, 0, 0, 0, 0, 0, 0, 0, 0, 1, 0, 0, 0): 1, (0, 0, 0, 1, 0, 0, 0, 0, 0, 0, 0, 0, 0, 0, 0, 0, 0): 1}\n",
      "[NeMo I 2022-01-20 12:27:06 multi_label_intent_slot_classification_descriptor:124] Total Number of Slots: 5703\n",
      "[NeMo I 2022-01-20 12:27:06 multi_label_intent_slot_classification_descriptor:125] Slots Label Frequencies: {101: 3604, 43: 434, 4: 424, 95: 112, 90: 104, 3: 72, 87: 62, 58: 59, 16: 42, 99: 42, 68: 40, 2: 40, 12: 40, 78: 40, 75: 35, 94: 33, 91: 25, 61: 25, 30: 25, 69: 23, 112: 23, 8: 22, 111: 21, 64: 19, 70: 17, 55: 16, 48: 14, 20: 13, 28: 13, 23: 13, 25: 12, 29: 12, 38: 10, 85: 10, 6: 9, 37: 9, 113: 9, 71: 8, 40: 8, 105: 7, 114: 7, 17: 7, 1: 6, 26: 6, 18: 6, 54: 6, 117: 6, 41: 6, 86: 5, 63: 4, 104: 4, 110: 4, 59: 4, 35: 4, 13: 4, 76: 4, 79: 4, 77: 4, 33: 4, 96: 4, 19: 3, 24: 3, 9: 3, 109: 3, 102: 3, 66: 3, 44: 2, 72: 2, 7: 2, 57: 2, 92: 2, 53: 2, 88: 2, 22: 2, 34: 2, 89: 2, 14: 2, 74: 1, 42: 1, 80: 1, 52: 1, 49: 1, 5: 1, 31: 1, 56: 1, 118: 1, 39: 1, 106: 1, 107: 1, 51: 1, 65: 1, 83: 1, 81: 1, 50: 1, 115: 1}\n",
      "[NeMo I 2022-01-20 12:27:06 multi_label_intent_slot_classification_model:148] Labels: {'I-arrive_date.day_number': 0, 'I-cost_relative': 1, 'B-depart_date.day_number': 2, 'B-depart_time.period_of_day': 3, 'B-toloc.city_name': 4, 'B-arrive_date.today_relative': 5, 'B-airline_code': 6, 'B-restriction_code': 7, 'I-fromloc.airport_name': 8, 'B-arrive_time.start_time': 9, 'I-meal_code': 10, 'I-arrive_time.period_of_day': 11, 'B-flight_mod': 12, 'B-airport_code': 13, 'I-transport_type': 14, 'I-today_relative': 15, 'B-depart_time.time': 16, 'B-or': 17, 'B-depart_date.date_relative': 18, 'B-return_date.date_relative': 19, 'B-arrive_time.period_of_day': 20, 'I-depart_time.time_relative': 21, 'I-flight_mod': 22, 'B-fare_basis_code': 23, 'I-toloc.airport_name': 24, 'I-arrive_time.time': 25, 'I-stoploc.city_name': 26, 'I-arrive_time.start_time': 27, 'I-depart_date.day_number': 28, 'B-flight_time': 29, 'B-flight_stop': 30, 'B-aircraft_code': 31, 'B-day_number': 32, 'B-airport_name': 33, 'B-arrive_date.date_relative': 34, 'B-depart_date.year': 35, 'I-return_date.today_relative': 36, 'B-depart_time.period_mod': 37, 'B-toloc.state_code': 38, 'I-fare_basis_code': 39, 'B-transport_type': 40, 'B-flight_number': 41, 'I-depart_time.start_time': 42, 'B-fromloc.city_name': 43, 'B-return_date.month_name': 44, 'B-toloc.country_name': 45, 'B-time_relative': 46, 'B-month_name': 47, 'B-arrive_time.time_relative': 48, 'B-return_time.period_of_day': 49, 'B-mod': 50, 'B-days_code': 51, 'I-depart_time.end_time': 52, 'I-flight_stop': 53, 'I-flight_time': 54, 'B-fromloc.airport_name': 55, 'B-arrive_time.period_mod': 56, 'B-day_name': 57, 'I-fromloc.city_name': 58, 'I-city_name': 59, 'B-today_relative': 60, 'I-round_trip': 61, 'B-meal_code': 62, 'B-toloc.airport_name': 63, 'I-class_type': 64, 'B-state_code': 65, 'B-meal': 66, 'B-return_date.today_relative': 67, 'B-depart_date.month_name': 68, 'B-class_type': 69, 'B-arrive_time.time': 70, 'B-meal_description': 71, 'B-return_date.day_number': 72, 'I-time': 73, 'B-depart_time.start_time': 74, 'I-depart_time.time': 75, 'B-toloc.airport_code': 76, 'B-fromloc.state_name': 77, 'B-depart_time.time_relative': 78, 'B-connect': 79, 'B-depart_time.end_time': 80, 'I-restriction_code': 81, 'I-depart_date.today_relative': 82, 'B-state_name': 83, 'I-economy': 84, 'B-arrive_date.day_name': 85, 'B-fromloc.state_code': 86, 'B-airline_name': 87, 'B-flight_days': 88, 'B-economy': 89, 'B-depart_date.day_name': 90, 'B-round_trip': 91, 'B-period_of_day': 92, 'B-return_date.day_name': 93, 'B-cost_relative': 94, 'I-toloc.city_name': 95, 'I-airport_name': 96, 'B-stoploc.state_code': 97, 'I-arrive_time.time_relative': 98, 'I-airline_name': 99, 'B-time': 100, 'O': 101, 'I-arrive_time.end_time': 102, 'I-meal_description': 103, 'B-arrive_date.month_name': 104, 'B-toloc.state_name': 105, 'I-toloc.state_name': 106, 'B-fromloc.airport_code': 107, 'I-return_date.date_relative': 108, 'B-arrive_time.end_time': 109, 'B-arrive_date.day_number': 110, 'B-stoploc.city_name': 111, 'B-city_name': 112, 'B-depart_date.today_relative': 113, 'B-fare_amount': 114, 'I-fromloc.state_name': 115, 'B-return_time.period_mod': 116, 'I-fare_amount': 117, 'I-depart_time.period_of_day': 118, 'B-stoploc.airport_name': 119}\n",
      "[NeMo I 2022-01-20 12:27:06 multi_label_intent_slot_classification_model:149] Labels mapping saved to : /home/rchen/multiatis/slot_labels.csv\n",
      "[NeMo I 2022-01-20 12:27:06 multi_label_intent_slot_classification_model:148] Labels: {'atis_airfare': 0, 'atis_ground_fare': 1, 'atis_restriction': 2, 'atis_city': 3, 'atis_quantity': 4, 'atis_flight': 5, 'atis_airline': 6, 'atis_airport': 7, 'atis_abbreviation': 8, 'atis_meal': 9, 'atis_ground_service': 10, 'atis_aircraft': 11, 'atis_cheapest': 12, 'atis_capacity': 13, 'atis_flight_time': 14, 'atis_distance': 15, 'atis_flight_no': 16}\n",
      "[NeMo I 2022-01-20 12:27:06 multi_label_intent_slot_classification_model:149] Labels mapping saved to : /home/rchen/multiatis/intent_labels.csv\n",
      "[NeMo I 2022-01-20 12:27:08 multi_label_intent_slot_classification_dataset:92] Setting max length to: 50\n",
      "[NeMo I 2022-01-20 12:27:08 data_preprocessing:358] Some stats of the lengths of the sequences:\n",
      "[NeMo I 2022-01-20 12:27:08 data_preprocessing:364] Min: 3 |                  Max: 52 |                  Mean: 13.663019205002232 |                  Median: 13.0\n",
      "[NeMo I 2022-01-20 12:27:08 data_preprocessing:366] 75 percentile: 16.00\n",
      "[NeMo I 2022-01-20 12:27:08 data_preprocessing:367] 99 percentile: 29.00\n",
      "[NeMo I 2022-01-20 12:27:08 multi_label_intent_slot_classification_dataset:121] 1 are longer than 50\n",
      "[NeMo I 2022-01-20 12:27:08 multi_label_intent_slot_classification_dataset:92] Setting max length to: 37\n",
      "[NeMo I 2022-01-20 12:27:08 data_preprocessing:358] Some stats of the lengths of the sequences:\n",
      "[NeMo I 2022-01-20 12:27:08 data_preprocessing:364] Min: 5 |                  Max: 37 |                  Mean: 13.754 |                  Median: 13.0\n",
      "[NeMo I 2022-01-20 12:27:08 data_preprocessing:366] 75 percentile: 16.00\n",
      "[NeMo I 2022-01-20 12:27:08 data_preprocessing:367] 99 percentile: 31.00\n",
      "[NeMo I 2022-01-20 12:27:08 multi_label_intent_slot_classification_dataset:121] 0 are longer than 37\n"
     ]
    },
    {
     "name": "stdout",
     "output_type": "stream",
     "text": [
      "[NeMo I 2022-01-20 12:27:09 multi_label_intent_slot_classification_dataset:92] Setting max length to: 37\n",
      "[NeMo I 2022-01-20 12:27:09 data_preprocessing:358] Some stats of the lengths of the sequences:\n",
      "[NeMo I 2022-01-20 12:27:09 data_preprocessing:364] Min: 5 |                  Max: 37 |                  Mean: 13.754 |                  Median: 13.0\n",
      "[NeMo I 2022-01-20 12:27:09 data_preprocessing:366] 75 percentile: 16.00\n",
      "[NeMo I 2022-01-20 12:27:09 data_preprocessing:367] 99 percentile: 31.00\n",
      "[NeMo I 2022-01-20 12:27:09 multi_label_intent_slot_classification_dataset:121] 0 are longer than 37\n"
     ]
    },
    {
     "name": "stderr",
     "output_type": "stream",
     "text": [
      "[NeMo W 2022-01-20 12:27:09 modelPT:203] You tried to register an artifact under config key=tokenizer.vocab_file but an artifact for it has already been registered.\n",
      "Some weights of the model checkpoint at bert-base-uncased were not used when initializing BertModel: ['cls.predictions.decoder.weight', 'cls.predictions.transform.LayerNorm.weight', 'cls.predictions.transform.dense.bias', 'cls.predictions.transform.dense.weight', 'cls.seq_relationship.bias', 'cls.predictions.transform.LayerNorm.bias', 'cls.seq_relationship.weight', 'cls.predictions.bias']\n",
      "- This IS expected if you are initializing BertModel from the checkpoint of a model trained on another task or with another architecture (e.g. initializing a BertForSequenceClassification model from a BertForPreTraining model).\n",
      "- This IS NOT expected if you are initializing BertModel from the checkpoint of a model that you expect to be exactly identical (initializing a BertForSequenceClassification model from a BertForSequenceClassification model).\n",
      "Some weights of the model checkpoint at bert-base-uncased were not used when initializing BertEncoder: ['cls.predictions.decoder.weight', 'cls.predictions.transform.LayerNorm.weight', 'cls.predictions.transform.dense.bias', 'cls.predictions.transform.dense.weight', 'cls.seq_relationship.bias', 'cls.predictions.transform.LayerNorm.bias', 'cls.seq_relationship.weight', 'cls.predictions.bias']\n",
      "- This IS expected if you are initializing BertEncoder from the checkpoint of a model trained on another task or with another architecture (e.g. initializing a BertForSequenceClassification model from a BertForPreTraining model).\n",
      "- This IS NOT expected if you are initializing BertEncoder from the checkpoint of a model that you expect to be exactly identical (initializing a BertForSequenceClassification model from a BertForSequenceClassification model).\n",
      "[NeMo W 2022-01-20 12:27:12 nemo_logging:349] /home/rchen/anaconda3/envs/mynewenv/lib/python3.7/site-packages/pytorch_lightning/trainer/configuration_validator.py:292: LightningDeprecationWarning: Base `Callback.on_train_batch_start` hook signature has changed in v1.5. The `dataloader_idx` argument will be removed in v1.7.\n",
      "      f\"Base `Callback.{hook}` hook signature has changed in v1.5.\"\n",
      "    \n",
      "[NeMo W 2022-01-20 12:27:12 nemo_logging:349] /home/rchen/anaconda3/envs/mynewenv/lib/python3.7/site-packages/pytorch_lightning/trainer/configuration_validator.py:292: LightningDeprecationWarning: Base `Callback.on_train_batch_end` hook signature has changed in v1.5. The `dataloader_idx` argument will be removed in v1.7.\n",
      "      f\"Base `Callback.{hook}` hook signature has changed in v1.5.\"\n",
      "    \n",
      "LOCAL_RANK: 0 - CUDA_VISIBLE_DEVICES: [0,1]\n",
      "[NeMo W 2022-01-20 12:27:13 modelPT:476] The lightning trainer received accelerator: <pytorch_lightning.accelerators.gpu.GPUAccelerator object at 0x7f92e31804d0>. We recommend to use 'ddp' instead.\n"
     ]
    },
    {
     "name": "stdout",
     "output_type": "stream",
     "text": [
      "[NeMo I 2022-01-20 12:27:13 modelPT:566] Optimizer config = Adam (\n",
      "    Parameter Group 0\n",
      "        amsgrad: False\n",
      "        betas: (0.9, 0.999)\n",
      "        eps: 1e-08\n",
      "        lr: 2e-05\n",
      "        weight_decay: 0.01\n",
      "    )\n",
      "[NeMo I 2022-01-20 12:27:13 lr_scheduler:837] Scheduler \"<nemo.core.optim.lr_scheduler.WarmupAnnealing object at 0x7f92e317d750>\" \n",
      "    will be used during training (effective maximum steps = 700) - \n",
      "    Parameters : \n",
      "    (last_epoch: -1\n",
      "    max_steps: 700\n",
      "    warmup_steps: null\n",
      "    warmup_ratio: null\n",
      "    )\n"
     ]
    },
    {
     "name": "stderr",
     "output_type": "stream",
     "text": [
      "\n",
      "  | Name                         | Type                    | Params\n",
      "-------------------------------------------------------------------------\n",
      "0 | bert_model                   | BertEncoder             | 109 M \n",
      "1 | classifier                   | SequenceTokenClassifier | 1.3 M \n",
      "2 | intent_loss                  | BCELoss                 | 0     \n",
      "3 | slot_loss                    | CrossEntropyLoss        | 0     \n",
      "4 | total_loss                   | AggregatorLoss          | 0     \n",
      "5 | intent_classification_report | ClassificationReport    | 0     \n",
      "6 | slot_classification_report   | ClassificationReport    | 0     \n",
      "-------------------------------------------------------------------------\n",
      "110 M     Trainable params\n",
      "0         Non-trainable params\n",
      "110 M     Total params\n",
      "443.075   Total estimated model params size (MB)\n"
     ]
    },
    {
     "data": {
      "application/vnd.jupyter.widget-view+json": {
       "model_id": "",
       "version_major": 2,
       "version_minor": 0
      },
      "text/plain": [
       "Validation sanity check: 0it [00:00, ?it/s]"
      ]
     },
     "metadata": {},
     "output_type": "display_data"
    },
    {
     "name": "stderr",
     "output_type": "stream",
     "text": [
      "[NeMo W 2022-01-20 12:27:13 nemo_logging:349] /home/rchen/anaconda3/envs/mynewenv/lib/python3.7/site-packages/pytorch_lightning/trainer/data_loading.py:133: UserWarning: The dataloader, val_dataloader 0, does not have many workers which may be a bottleneck. Consider increasing the value of the `num_workers` argument` (try 24 which is the number of cpus on this machine) in the `DataLoader` init to improve performance.\n",
      "      f\"The dataloader, {name}, does not have many workers which may be a bottleneck.\"\n",
      "    \n"
     ]
    },
    {
     "name": "stdout",
     "output_type": "stream",
     "text": [
      "PREDICTIONS\n",
      "tensor([[0., 1., 1., 1., 0., 1., 0., 0., 1., 0., 1., 1., 0., 0., 0., 1., 1.],\n",
      "        [1., 1., 0., 1., 0., 1., 0., 0., 1., 0., 1., 1., 0., 0., 0., 1., 1.],\n",
      "        [1., 1., 1., 1., 0., 1., 0., 0., 1., 0., 1., 1., 1., 0., 0., 0., 1.],\n",
      "        [0., 1., 0., 1., 0., 1., 0., 0., 1., 0., 1., 1., 0., 0., 0., 1., 1.],\n",
      "        [1., 1., 1., 1., 0., 1., 0., 0., 1., 0., 1., 1., 0., 0., 0., 1., 1.],\n",
      "        [0., 1., 1., 1., 0., 1., 0., 0., 1., 0., 1., 1., 1., 0., 0., 1., 1.],\n",
      "        [1., 0., 0., 1., 1., 1., 0., 0., 1., 0., 1., 0., 0., 0., 0., 1., 1.],\n",
      "        [0., 1., 1., 1., 0., 1., 0., 0., 1., 0., 1., 1., 0., 0., 0., 1., 1.],\n",
      "        [1., 1., 0., 1., 1., 1., 0., 0., 1., 0., 1., 0., 0., 0., 0., 1., 1.],\n",
      "        [0., 1., 1., 1., 0., 1., 0., 0., 1., 0., 1., 1., 0., 0., 0., 1., 1.],\n",
      "        [1., 1., 1., 1., 0., 1., 0., 0., 1., 0., 1., 0., 0., 0., 0., 1., 1.],\n",
      "        [0., 1., 1., 1., 0., 1., 0., 0., 1., 0., 1., 1., 0., 0., 0., 1., 1.],\n",
      "        [1., 1., 1., 1., 0., 1., 0., 0., 1., 0., 1., 1., 0., 0., 0., 1., 1.],\n",
      "        [1., 1., 0., 1., 0., 1., 0., 0., 1., 0., 1., 1., 0., 0., 0., 1., 1.],\n",
      "        [1., 1., 0., 1., 1., 1., 0., 0., 1., 0., 1., 0., 0., 0., 0., 1., 1.],\n",
      "        [0., 1., 1., 1., 0., 1., 0., 0., 1., 0., 1., 1., 0., 0., 0., 1., 1.],\n",
      "        [1., 1., 1., 1., 0., 1., 0., 0., 1., 0., 1., 1., 0., 0., 0., 1., 1.],\n",
      "        [1., 1., 1., 1., 0., 1., 0., 0., 1., 0., 1., 1., 0., 0., 0., 1., 1.],\n",
      "        [0., 1., 1., 1., 0., 1., 0., 0., 1., 0., 1., 1., 1., 0., 0., 1., 1.],\n",
      "        [1., 1., 0., 1., 0., 1., 0., 0., 1., 0., 1., 1., 1., 0., 0., 1., 1.],\n",
      "        [0., 1., 1., 1., 0., 1., 0., 0., 1., 0., 1., 1., 1., 0., 0., 1., 1.],\n",
      "        [0., 1., 1., 1., 0., 1., 0., 0., 1., 0., 1., 1., 0., 0., 0., 1., 1.],\n",
      "        [1., 1., 0., 1., 0., 1., 0., 0., 1., 0., 1., 1., 0., 0., 0., 1., 1.],\n",
      "        [0., 1., 1., 1., 0., 1., 0., 0., 1., 0., 1., 1., 0., 0., 0., 1., 1.],\n",
      "        [1., 0., 0., 1., 0., 1., 0., 0., 1., 0., 1., 0., 1., 0., 0., 1., 1.],\n",
      "        [0., 1., 1., 1., 0., 1., 0., 0., 1., 0., 1., 1., 0., 0., 0., 1., 1.],\n",
      "        [0., 1., 1., 1., 0., 1., 0., 0., 1., 0., 1., 1., 0., 0., 0., 1., 1.],\n",
      "        [0., 1., 1., 1., 0., 1., 0., 0., 1., 0., 1., 0., 1., 0., 0., 1., 1.],\n",
      "        [1., 1., 1., 1., 0., 1., 0., 0., 1., 0., 1., 1., 0., 0., 0., 1., 1.],\n",
      "        [1., 1., 1., 1., 1., 1., 0., 0., 1., 0., 1., 0., 0., 0., 0., 1., 1.],\n",
      "        [1., 1., 1., 1., 0., 1., 0., 0., 1., 0., 1., 1., 0., 0., 0., 1., 1.],\n",
      "        [1., 1., 1., 1., 0., 1., 0., 0., 1., 0., 1., 1., 1., 0., 0., 1., 1.]],\n",
      "       device='cuda:0')\n",
      "PREDICTIONS\n",
      "tensor([[1., 1., 1., 1., 1., 1., 0., 0., 1., 0., 1., 1., 0., 1., 0., 1., 1.],\n",
      "        [1., 1., 0., 1., 1., 1., 0., 0., 1., 0., 1., 0., 0., 0., 0., 1., 1.],\n",
      "        [1., 1., 0., 1., 0., 1., 0., 0., 1., 0., 1., 1., 0., 0., 0., 1., 0.],\n",
      "        [0., 1., 1., 1., 0., 1., 0., 0., 1., 0., 1., 1., 0., 0., 0., 1., 1.],\n",
      "        [1., 1., 1., 1., 0., 1., 0., 0., 1., 0., 1., 1., 0., 1., 0., 1., 1.],\n",
      "        [1., 1., 1., 1., 1., 1., 0., 0., 1., 0., 1., 0., 0., 0., 0., 1., 1.],\n",
      "        [1., 1., 1., 1., 1., 1., 0., 0., 1., 0., 1., 1., 1., 0., 0., 1., 1.],\n",
      "        [0., 1., 1., 1., 0., 1., 0., 0., 1., 0., 1., 1., 1., 0., 0., 1., 1.],\n",
      "        [1., 1., 1., 1., 1., 1., 0., 0., 1., 0., 1., 1., 0., 0., 0., 1., 1.],\n",
      "        [1., 0., 1., 1., 1., 1., 0., 0., 1., 0., 1., 0., 0., 0., 0., 1., 1.],\n",
      "        [0., 1., 1., 1., 0., 1., 0., 0., 1., 0., 1., 1., 0., 0., 0., 1., 1.],\n",
      "        [1., 1., 1., 1., 0., 1., 0., 0., 1., 0., 1., 1., 0., 0., 0., 1., 1.],\n",
      "        [1., 1., 1., 1., 0., 1., 0., 0., 0., 0., 1., 0., 0., 0., 0., 1., 1.],\n",
      "        [0., 1., 1., 1., 0., 1., 0., 0., 1., 0., 1., 0., 0., 0., 0., 1., 1.],\n",
      "        [0., 1., 1., 1., 0., 1., 0., 0., 1., 0., 1., 1., 0., 0., 0., 1., 1.],\n",
      "        [1., 1., 1., 1., 0., 1., 0., 0., 1., 0., 1., 1., 0., 0., 0., 1., 1.],\n",
      "        [1., 1., 1., 1., 0., 1., 0., 0., 1., 0., 1., 1., 0., 0., 0., 1., 1.],\n",
      "        [1., 0., 1., 1., 1., 0., 0., 0., 1., 0., 1., 0., 1., 0., 0., 1., 1.],\n",
      "        [0., 1., 1., 1., 0., 1., 0., 0., 1., 0., 1., 1., 0., 0., 0., 1., 1.],\n",
      "        [1., 1., 1., 1., 0., 1., 0., 0., 1., 0., 1., 1., 0., 1., 0., 1., 1.],\n",
      "        [1., 1., 0., 1., 1., 1., 0., 0., 1., 0., 1., 1., 0., 0., 0., 1., 1.],\n",
      "        [1., 1., 1., 1., 0., 1., 0., 0., 1., 0., 1., 1., 0., 1., 0., 1., 1.],\n",
      "        [0., 1., 1., 1., 0., 1., 0., 0., 1., 0., 1., 1., 0., 0., 0., 1., 1.],\n",
      "        [0., 1., 1., 1., 0., 1., 0., 0., 1., 0., 1., 1., 0., 0., 0., 1., 1.],\n",
      "        [0., 1., 1., 1., 0., 1., 0., 0., 1., 0., 1., 0., 0., 0., 0., 1., 1.],\n",
      "        [1., 1., 1., 1., 0., 1., 0., 0., 1., 0., 1., 1., 0., 0., 0., 1., 0.],\n",
      "        [1., 1., 1., 1., 0., 1., 0., 0., 1., 0., 1., 1., 0., 0., 0., 1., 1.],\n",
      "        [0., 1., 1., 1., 0., 1., 0., 0., 1., 0., 1., 1., 0., 0., 0., 1., 1.],\n",
      "        [1., 1., 1., 1., 0., 1., 0., 0., 1., 0., 1., 1., 0., 0., 0., 1., 1.],\n",
      "        [1., 1., 0., 1., 0., 1., 0., 0., 1., 0., 1., 1., 0., 0., 0., 1., 1.],\n",
      "        [0., 1., 1., 1., 0., 1., 0., 0., 1., 0., 1., 1., 1., 0., 0., 1., 1.],\n",
      "        [1., 1., 0., 1., 0., 1., 0., 0., 1., 0., 1., 1., 0., 0., 0., 1., 1.]],\n",
      "       device='cuda:0')\n",
      "[NeMo I 2022-01-20 12:27:13 multi_label_intent_slot_classification_model:298] Intent report: \n",
      "    label                                                precision    recall       f1           support   \n",
      "    atis_airfare (label_id: 0)                               0.00       0.00       0.00          0\n",
      "    atis_ground_fare (label_id: 1)                           0.00       0.00       0.00          0\n",
      "    atis_restriction (label_id: 2)                           0.00       0.00       0.00          0\n",
      "    atis_city (label_id: 3)                                  0.00       0.00       0.00          0\n",
      "    atis_quantity (label_id: 4)                              0.00       0.00       0.00          0\n",
      "    atis_flight (label_id: 5)                                0.00       0.00       0.00          0\n",
      "    atis_airline (label_id: 6)                               0.00       0.00       0.00          0\n",
      "    atis_airport (label_id: 7)                               0.00       0.00       0.00          0\n",
      "    atis_abbreviation (label_id: 8)                          0.00       0.00       0.00          0\n",
      "    atis_meal (label_id: 9)                                  0.00       0.00       0.00          0\n",
      "    atis_ground_service (label_id: 10)                       0.00       0.00       0.00          0\n",
      "    atis_aircraft (label_id: 11)                             0.00       0.00       0.00          0\n",
      "    atis_cheapest (label_id: 12)                             0.00       0.00       0.00          0\n",
      "    atis_capacity (label_id: 13)                             0.00       0.00       0.00          0\n",
      "    atis_flight_time (label_id: 14)                          0.00       0.00       0.00          0\n",
      "    atis_distance (label_id: 15)                             0.00       0.00       0.00          0\n",
      "    atis_flight_no (label_id: 16)                            0.00       0.00       0.00          0\n",
      "    -------------------\n",
      "    micro avg                                                0.00       0.00       0.00          0\n",
      "    macro avg                                                 nan        nan        nan          0\n",
      "    weighted avg                                              nan        nan        nan          0\n",
      "    \n",
      "[NeMo I 2022-01-20 12:27:13 multi_label_intent_slot_classification_model:301] Slot report: \n",
      "    label                                                precision    recall       f1           support   \n",
      "    I-arrive_date.day_number (label_id: 0)                   0.00       0.00       0.00          0\n",
      "    I-cost_relative (label_id: 1)                            0.00       0.00       0.00          2\n",
      "    B-depart_date.day_number (label_id: 2)                   0.00       0.00       0.00          8\n",
      "    B-depart_time.period_of_day (label_id: 3)                0.00       0.00       0.00         11\n",
      "    B-toloc.city_name (label_id: 4)                          0.00       0.00       0.00         57\n",
      "    B-arrive_date.today_relative (label_id: 5)               0.00       0.00       0.00          0\n",
      "    B-airline_code (label_id: 6)                             0.00       0.00       0.00          2\n",
      "    B-restriction_code (label_id: 7)                         0.00       0.00       0.00          1\n",
      "    I-fromloc.airport_name (label_id: 8)                     0.00       0.00       0.00          2\n",
      "    B-arrive_time.start_time (label_id: 9)                   0.00       0.00       0.00          0\n",
      "    I-meal_code (label_id: 10)                               0.00       0.00       0.00          0\n",
      "    I-arrive_time.period_of_day (label_id: 11)               0.00       0.00       0.00          0\n",
      "    B-flight_mod (label_id: 12)                              0.00       0.00       0.00          6\n",
      "    B-airport_code (label_id: 13)                            0.00       0.00       0.00          0\n",
      "    I-transport_type (label_id: 14)                          0.00       0.00       0.00          0\n",
      "    I-today_relative (label_id: 15)                          0.00       0.00       0.00          0\n",
      "    B-depart_time.time (label_id: 16)                        0.00       0.00       0.00          6\n",
      "    B-or (label_id: 17)                                      0.00       0.00       0.00          0\n",
      "    B-depart_date.date_relative (label_id: 18)               0.00       0.00       0.00          1\n",
      "    B-return_date.date_relative (label_id: 19)               0.00       0.00       0.00          1\n",
      "    B-arrive_time.period_of_day (label_id: 20)               0.00       0.00       0.00          3\n",
      "    I-depart_time.time_relative (label_id: 21)               0.00       0.00       0.00          0\n",
      "    I-flight_mod (label_id: 22)                              0.00       0.00       0.00          0\n",
      "    B-fare_basis_code (label_id: 23)                         0.00       0.00       0.00          0\n",
      "    I-toloc.airport_name (label_id: 24)                      0.00       0.00       0.00          0\n",
      "    I-arrive_time.time (label_id: 25)                        0.00       0.00       0.00          2\n",
      "    I-stoploc.city_name (label_id: 26)                       0.00       0.00       0.00          2\n",
      "    I-arrive_time.start_time (label_id: 27)                  0.00       0.00       0.00          0\n",
      "    I-depart_date.day_number (label_id: 28)                  0.00       0.00       0.00          3\n",
      "    B-flight_time (label_id: 29)                             0.00       0.00       0.00          3\n",
      "    B-flight_stop (label_id: 30)                             0.00       0.00       0.00          3\n",
      "    B-aircraft_code (label_id: 31)                           0.00       0.00       0.00          0\n",
      "    B-day_number (label_id: 32)                              0.00       0.00       0.00          0\n",
      "    B-airport_name (label_id: 33)                            0.00       0.00       0.00          0\n",
      "    B-arrive_date.date_relative (label_id: 34)               0.00       0.00       0.00          0\n",
      "    B-depart_date.year (label_id: 35)                        0.00       0.00       0.00          0\n",
      "    I-return_date.today_relative (label_id: 36)              0.00       0.00       0.00          0\n",
      "    B-depart_time.period_mod (label_id: 37)                  0.00       0.00       0.00          0\n",
      "    B-toloc.state_code (label_id: 38)                        0.00       0.00       0.00          1\n",
      "    I-fare_basis_code (label_id: 39)                         0.00       0.00       0.00          0\n",
      "    B-transport_type (label_id: 40)                          0.00       0.00       0.00          0\n",
      "    B-flight_number (label_id: 41)                           0.00       0.00       0.00          0\n",
      "    I-depart_time.start_time (label_id: 42)                  0.00       0.00       0.00          1\n",
      "    B-fromloc.city_name (label_id: 43)                       0.00       0.00       0.00         56\n",
      "    B-return_date.month_name (label_id: 44)                  0.00       0.00       0.00          2\n",
      "    B-toloc.country_name (label_id: 45)                      0.00       0.00       0.00          0\n",
      "    B-time_relative (label_id: 46)                           0.00       0.00       0.00          0\n",
      "    B-month_name (label_id: 47)                              0.00       0.00       0.00          0\n",
      "    B-arrive_time.time_relative (label_id: 48)               0.00       0.00       0.00          1\n",
      "    B-return_time.period_of_day (label_id: 49)               0.00       0.00       0.00          1\n",
      "    B-mod (label_id: 50)                                     0.00       0.00       0.00          0\n",
      "    B-days_code (label_id: 51)                               0.00       0.00       0.00          0\n",
      "    I-depart_time.end_time (label_id: 52)                    0.00       0.00       0.00          1\n",
      "    I-flight_stop (label_id: 53)                             0.00       0.00       0.00          0\n",
      "    I-flight_time (label_id: 54)                             0.00       0.00       0.00          1\n",
      "    B-fromloc.airport_name (label_id: 55)                    0.00       0.00       0.00          2\n",
      "    B-arrive_time.period_mod (label_id: 56)                  0.00       0.00       0.00          0\n",
      "    B-day_name (label_id: 57)                                0.00       0.00       0.00          1\n",
      "    I-fromloc.city_name (label_id: 58)                       5.00      20.00       8.00          5\n",
      "    I-city_name (label_id: 59)                               0.00       0.00       0.00          0\n",
      "    B-today_relative (label_id: 60)                          0.00       0.00       0.00          0\n",
      "    I-round_trip (label_id: 61)                              0.00       0.00       0.00          4\n",
      "    B-meal_code (label_id: 62)                               0.00       0.00       0.00          0\n",
      "    B-toloc.airport_name (label_id: 63)                      0.00       0.00       0.00          1\n",
      "    I-class_type (label_id: 64)                              0.00       0.00       0.00          3\n",
      "    B-state_code (label_id: 65)                              0.00       0.00       0.00          0\n",
      "    B-meal (label_id: 66)                                    0.00       0.00       0.00          0\n",
      "    B-return_date.today_relative (label_id: 67)              0.00       0.00       0.00          0\n",
      "    B-depart_date.month_name (label_id: 68)                  0.00       0.00       0.00          8\n",
      "    B-class_type (label_id: 69)                              0.00       0.00       0.00          4\n",
      "    B-arrive_time.time (label_id: 70)                        0.00       0.00       0.00          3\n",
      "    B-meal_description (label_id: 71)                        0.00       0.00       0.00          2\n",
      "    B-return_date.day_number (label_id: 72)                  0.00       0.00       0.00          2\n",
      "    I-time (label_id: 73)                                    0.00       0.00       0.00          0\n",
      "    B-depart_time.start_time (label_id: 74)                  0.00       0.00       0.00          1\n",
      "    I-depart_time.time (label_id: 75)                        0.00       0.00       0.00          6\n",
      "    B-toloc.airport_code (label_id: 76)                      0.00       0.00       0.00          0\n",
      "    B-fromloc.state_name (label_id: 77)                      0.00       0.00       0.00          0\n",
      "    B-depart_time.time_relative (label_id: 78)               1.38      80.00       2.71          5\n",
      "    B-connect (label_id: 79)                                 0.00       0.00       0.00          0\n",
      "    B-depart_time.end_time (label_id: 80)                    0.00       0.00       0.00          1\n",
      "    I-restriction_code (label_id: 81)                        0.00       0.00       0.00          0\n",
      "    I-depart_date.today_relative (label_id: 82)              0.00       0.00       0.00          0\n",
      "    B-state_name (label_id: 83)                              0.00       0.00       0.00          0\n",
      "    I-economy (label_id: 84)                                 0.00       0.00       0.00          0\n",
      "    B-arrive_date.day_name (label_id: 85)                    0.00       0.00       0.00          0\n",
      "    B-fromloc.state_code (label_id: 86)                      0.00       0.00       0.00          0\n",
      "    B-airline_name (label_id: 87)                            0.00       0.00       0.00         13\n",
      "    B-flight_days (label_id: 88)                             0.00       0.00       0.00          0\n",
      "    B-economy (label_id: 89)                                 0.00       0.00       0.00          0\n",
      "    B-depart_date.day_name (label_id: 90)                    0.00       0.00       0.00         14\n",
      "    B-round_trip (label_id: 91)                              0.00       0.00       0.00          4\n",
      "    B-period_of_day (label_id: 92)                           0.00       0.00       0.00          1\n",
      "    B-return_date.day_name (label_id: 93)                    0.00       0.00       0.00          0\n",
      "    B-cost_relative (label_id: 94)                           0.00       0.00       0.00          5\n",
      "    I-toloc.city_name (label_id: 95)                         0.00       0.00       0.00         16\n",
      "    I-airport_name (label_id: 96)                            0.00       0.00       0.00          0\n",
      "    B-stoploc.state_code (label_id: 97)                      0.00       0.00       0.00          0\n",
      "    I-arrive_time.time_relative (label_id: 98)               0.00       0.00       0.00          0\n",
      "    I-airline_name (label_id: 99)                            0.00       0.00       0.00          7\n",
      "    B-time (label_id: 100)                                   0.00       0.00       0.00          0\n",
      "    O (label_id: 101)                                        0.00       0.00       0.00        499\n",
      "    I-arrive_time.end_time (label_id: 102)                   0.00       0.00       0.00          0\n",
      "    I-meal_description (label_id: 103)                       0.00       0.00       0.00          0\n",
      "    B-arrive_date.month_name (label_id: 104)                 0.00       0.00       0.00          1\n",
      "    B-toloc.state_name (label_id: 105)                       0.00       0.00       0.00          1\n",
      "    I-toloc.state_name (label_id: 106)                       0.00       0.00       0.00          0\n",
      "    B-fromloc.airport_code (label_id: 107)                   0.00       0.00       0.00          0\n",
      "    I-return_date.date_relative (label_id: 108)              0.00       0.00       0.00          0\n",
      "    B-arrive_time.end_time (label_id: 109)                   0.00       0.00       0.00          0\n",
      "    B-arrive_date.day_number (label_id: 110)                 0.00       0.00       0.00          1\n",
      "    B-stoploc.city_name (label_id: 111)                      0.00       0.00       0.00          2\n",
      "    B-city_name (label_id: 112)                              0.00       0.00       0.00          2\n",
      "    B-depart_date.today_relative (label_id: 113)             0.00       0.00       0.00          0\n",
      "    B-fare_amount (label_id: 114)                            0.00       0.00       0.00          0\n",
      "    I-fromloc.state_name (label_id: 115)                     0.00       0.00       0.00          0\n",
      "    B-return_time.period_mod (label_id: 116)                 0.00       0.00       0.00          0\n",
      "    I-fare_amount (label_id: 117)                            0.00       0.00       0.00          0\n",
      "    I-depart_time.period_of_day (label_id: 118)              0.00       0.00       0.00          0\n",
      "    B-stoploc.airport_name (label_id: 119)                   0.00       0.00       0.00          0\n",
      "    -------------------\n",
      "    micro avg                                                0.63       0.63       0.63        791\n",
      "    macro avg                                                0.12       1.89       0.20        791\n",
      "    weighted avg                                             0.04       0.63       0.07        791\n",
      "    \n"
     ]
    },
    {
     "data": {
      "application/vnd.jupyter.widget-view+json": {
       "model_id": "95e9841e8ed7454baca10f3b4a089be0",
       "version_major": 2,
       "version_minor": 0
      },
      "text/plain": [
       "Training: 0it [00:00, ?it/s]"
      ]
     },
     "metadata": {},
     "output_type": "display_data"
    },
    {
     "name": "stderr",
     "output_type": "stream",
     "text": [
      "[NeMo W 2022-01-20 12:27:14 nemo_logging:349] /home/rchen/anaconda3/envs/mynewenv/lib/python3.7/site-packages/pytorch_lightning/trainer/trainer.py:688: UserWarning: Detected KeyboardInterrupt, attempting graceful shutdown...\n",
      "      rank_zero_warn(\"Detected KeyboardInterrupt, attempting graceful shutdown...\")\n",
      "    \n"
     ]
    }
   ],
   "source": [
    "from typing import Dict, List, Optional\n",
    "\n",
    "from nemo.collections import nlp as nemo_nlp\n",
    "from nemo.utils.exp_manager import exp_manager\n",
    "from nemo.utils import logging\n",
    "from nemo.collections.nlp.parts.utils_funcs import tensor2list\n",
    "\n",
    "import os\n",
    "import time\n",
    "\n",
    "import torch\n",
    "import pytorch_lightning as pl\n",
    "\n",
    "from omegaconf import OmegaConf\n",
    "\n",
    "DOCKER = False\n",
    "\n",
    "if DOCKER:\n",
    "    HOME_DIR = \"/workspace\"\n",
    "else:\n",
    "    HOME_DIR = \"/home/rchen/\"\n",
    "\n",
    "# directory with data converted to nemo format\n",
    "data_dir = os.path.join(HOME_DIR, \"multiatis\")\n",
    "\n",
    "run_name = \"test\"\n",
    "config_file = os.path.join(\"/home/rchen/NeMo/examples/nlp/multi-label-intent-slot-classification/conf/multi-label-intent-slot-classification.yaml\")\n",
    "config = OmegaConf.load(config_file)\n",
    "config.model.data_dir = data_dir\n",
    "config.model.validation_ds.prefix = \"dev\"\n",
    "config.model.test_ds.prefix = \"dev\"\n",
    "config.model.intent_loss_weight = 0.6\n",
    "config.model.class_balancing = \"weighted_loss\"\n",
    "config.model.head.num_output_layers = 2\n",
    "config.trainer.max_epochs = 5\n",
    "\n",
    "\n",
    "# checks if we have GPU available and uses it\n",
    "cuda = 1 if torch.cuda.is_available() else 0\n",
    "config.trainer.gpus = cuda\n",
    "\n",
    "# config.trainer.precision = 16 if torch.cuda.is_available() else 32\n",
    "config.trainer.precision = 32\n",
    "\n",
    "# for mixed precision training, uncomment the line below (precision should be set to 16 and amp_level to O1):\n",
    "# config.trainer.amp_level = 'O1'\n",
    "\n",
    "# remove distributed training flags\n",
    "config.trainer.accelerator = None\n",
    "\n",
    "# early_stop_callback = EarlyStopping(monitor='intent_f1', min_delta=1e-1, patience=10, verbose=True, mode='max')\n",
    "\n",
    "trainer = pl.Trainer(**config.trainer)\n",
    "config.exp_manager.exp_dir = os.path.join(HOME_DIR, \"output/\" + run_name)\n",
    "config.exp_manager.create_checkpoint_callback = True\n",
    "config.exp_manager.version = time.strftime('%Y-%m-%d_%H-%M-%S')\n",
    "\n",
    "exp_dir = exp_manager(trainer, config.get(\"exp_manager\", None))\n",
    "model = nemo_nlp.models.MultiLabelIntentSlotClassificationModel(config.model, trainer=trainer)\n",
    "# model.setup_training_data(train_data_config=config.model.train_ds)\n",
    "trainer.fit(model)"
   ]
  },
  {
   "cell_type": "markdown",
   "id": "3450372e",
   "metadata": {},
   "source": [
    "### Evaluation\n",
    "---"
   ]
  },
  {
   "cell_type": "code",
   "execution_count": null,
   "id": "27163ca3",
   "metadata": {},
   "outputs": [],
   "source": [
    "# extract the path of the best checkpoint from the training, you may update it to any other saved checkpoint file\n",
    "checkpoint_path = trainer.checkpoint_callback.best_model_path\n",
    "\n",
    "eval_model= nemo_nlp.models.MultiLabelIntentSlotClassificationModel.restore_from('/home/rchen/output/test/MultiLabelIntentSlot/2022-01-20_11-28-12/checkpoints/MultiLabelIntentSlot.nemo')\n",
    "\n",
    "# load the model from this checkpoint\n",
    "#eval_model = nemo_nlp.models.MultiLabelIntentSlotClassificationModel.load_from_checkpoint(checkpoint_path=checkpoint_path)"
   ]
  },
  {
   "cell_type": "code",
   "execution_count": null,
   "id": "a318545b",
   "metadata": {},
   "outputs": [],
   "source": [
    "eval_model"
   ]
  },
  {
   "cell_type": "code",
   "execution_count": 2,
   "id": "9c85f961",
   "metadata": {},
   "outputs": [
    {
     "name": "stdout",
     "output_type": "stream",
     "text": [
      "[NeMo I 2022-01-20 12:23:29 multi_label_intent_slot_classification_dataset:92] Setting max length to: 22\n",
      "[NeMo I 2022-01-20 12:23:29 data_preprocessing:358] Some stats of the lengths of the sequences:\n",
      "[NeMo I 2022-01-20 12:23:29 data_preprocessing:364] Min: 10 |                  Max: 22 |                  Mean: 16.666666666666668 |                  Median: 18.0\n",
      "[NeMo I 2022-01-20 12:23:29 data_preprocessing:366] 75 percentile: 20.00\n",
      "[NeMo I 2022-01-20 12:23:29 data_preprocessing:367] 99 percentile: 21.92\n",
      "[NeMo I 2022-01-20 12:23:29 multi_label_intent_slot_classification_dataset:121] 0 are longer than 22\n",
      "Intent Predictions:\n",
      "[[0.07703281193971634, 0.016188474372029305, 0.014695967547595501, 0.013257921673357487, 0.020136766135692596, 0.8172456622123718, 0.030163338407874107, 0.012941159307956696, 0.020604940131306648, 0.018187344074249268, 0.03778514266014099, 0.020401466637849808, 0.013443556614220142, 0.015243137255311012, 0.018779905512928963, 0.01583228074014187, 0.017752505838871002], [0.08428192138671875, 0.016222160309553146, 0.015050162561237812, 0.015062324702739716, 0.021306239068508148, 0.8133852481842041, 0.032227471470832825, 0.013314493000507355, 0.020186804234981537, 0.01880965381860733, 0.03956654667854309, 0.020620141178369522, 0.014350492507219315, 0.01615043357014656, 0.01922854781150818, 0.01609310880303383, 0.018843255937099457], [0.10743335634469986, 0.023638980463147163, 0.020099516957998276, 0.021374396979808807, 0.027783473953604698, 0.6383994221687317, 0.04908701404929161, 0.01965109445154667, 0.03579594939947128, 0.02381359599530697, 0.06678248196840286, 0.0326363742351532, 0.020755136385560036, 0.02167903445661068, 0.027728736400604248, 0.02296449989080429, 0.0247278343886137]]\n",
      "0.8172456622123718\n",
      "0.8133852481842041\n",
      "0.6383994221687317\n",
      "PREDICTED INTENTS:\n",
      "[['atis_flight'], ['atis_flight'], ['atis_flight']]\n",
      "[NeMo I 2022-01-20 12:23:29 4119318275:8] The prediction results of some sample queries with the trained model:\n",
      "[NeMo I 2022-01-20 12:23:29 4119318275:12] Query : i would like to find a flight from charlotte to las vegas that makes a stop in st. louis\n",
      "[NeMo I 2022-01-20 12:23:29 4119318275:13] Predicted Intent: ['atis_flight']\n",
      "[NeMo I 2022-01-20 12:23:29 4119318275:12] Query : on april first i need a ticket from tacoma to san jose departing before 7 am\n",
      "[NeMo I 2022-01-20 12:23:29 4119318275:13] Predicted Intent: ['atis_flight']\n",
      "[NeMo I 2022-01-20 12:23:29 4119318275:12] Query : how much is the limousine service in boston\n",
      "[NeMo I 2022-01-20 12:23:29 4119318275:13] Predicted Intent: ['atis_flight']\n"
     ]
    }
   ],
   "source": [
    "queries = [\n",
    "    'i would like to find a flight from charlotte to las vegas that makes a stop in st. louis',\n",
    "    'on april first i need a ticket from tacoma to san jose departing before 7 am',\n",
    "    'how much is the limousine service in boston',\n",
    "]\n",
    "\n",
    "pred_intents, pred_slots = model.predict_from_examples(queries, config.model.test_ds)\n",
    "logging.info('The prediction results of some sample queries with the trained model:')\n",
    "\n",
    "    \n",
    "for query, intent in zip(queries, pred_intents):\n",
    "    logging.info(f'Query : {query}')\n",
    "    logging.info(f'Predicted Intent: {intent}')\n"
   ]
  },
  {
   "cell_type": "code",
   "execution_count": null,
   "id": "526ff0cd",
   "metadata": {},
   "outputs": [],
   "source": [
    "print(config)"
   ]
  },
  {
   "cell_type": "code",
   "execution_count": null,
   "id": "4b6a19b3",
   "metadata": {},
   "outputs": [],
   "source": [
    "config.keys()"
   ]
  },
  {
   "cell_type": "code",
   "execution_count": null,
   "id": "28f823e7",
   "metadata": {},
   "outputs": [],
   "source": [
    "checkpoint_path"
   ]
  },
  {
   "cell_type": "code",
   "execution_count": null,
   "id": "f0a0b6ba",
   "metadata": {},
   "outputs": [],
   "source": [
    "print(config_file)"
   ]
  },
  {
   "cell_type": "code",
   "execution_count": null,
   "id": "05e9d3a6",
   "metadata": {},
   "outputs": [],
   "source": [
    "config = OmegaConf.load(config_file)"
   ]
  },
  {
   "cell_type": "code",
   "execution_count": null,
   "id": "685f8748",
   "metadata": {},
   "outputs": [],
   "source": [
    "checkpoint_path"
   ]
  },
  {
   "cell_type": "code",
   "execution_count": null,
   "id": "b62dcec9",
   "metadata": {},
   "outputs": [],
   "source": [
    "!ls /home/rchen/output/test/MultiLabelIntentSlot/"
   ]
  },
  {
   "cell_type": "code",
   "execution_count": null,
   "id": "d666786e",
   "metadata": {},
   "outputs": [],
   "source": [
    "!ls /home/rchen/output/test/MultiLabelIntentSlot/2022-01-20_11-28-12/checkpoints/MultiLabelIntentSlot.nemo"
   ]
  },
  {
   "cell_type": "code",
   "execution_count": null,
   "id": "87e654dd",
   "metadata": {},
   "outputs": [],
   "source": [
    "torch.tensor"
   ]
  }
 ],
 "metadata": {
  "kernelspec": {
   "display_name": "Python 3 (ipykernel)",
   "language": "python",
   "name": "python3"
  },
  "language_info": {
   "codemirror_mode": {
    "name": "ipython",
    "version": 3
   },
   "file_extension": ".py",
   "mimetype": "text/x-python",
   "name": "python",
   "nbconvert_exporter": "python",
   "pygments_lexer": "ipython3",
   "version": "3.7.7"
  }
 },
 "nbformat": 4,
 "nbformat_minor": 5
}
