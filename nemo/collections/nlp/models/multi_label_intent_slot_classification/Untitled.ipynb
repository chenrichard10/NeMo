{
 "cells": [
  {
   "cell_type": "markdown",
   "id": "278a0ea6",
   "metadata": {},
   "source": [
    "### Training\n",
    "---"
   ]
  },
  {
   "cell_type": "code",
   "execution_count": null,
   "id": "8e794767",
   "metadata": {
    "scrolled": true
   },
   "outputs": [],
   "source": [
    "from typing import Dict, List, Optional\n",
    "\n",
    "from nemo.collections import nlp as nemo_nlp\n",
    "from nemo.utils.exp_manager import exp_manager\n",
    "from nemo.utils import logging\n",
    "from nemo.collections.nlp.parts.utils_funcs import tensor2list\n",
    "\n",
    "import os\n",
    "import time\n",
    "\n",
    "import torch\n",
    "import pytorch_lightning as pl\n",
    "\n",
    "from omegaconf import OmegaConf\n",
    "\n",
    "DOCKER = False\n",
    "\n",
    "if DOCKER:\n",
    "    HOME_DIR = \"/workspace\"\n",
    "else:\n",
    "    HOME_DIR = \"/home/rchen/\"\n",
    "\n",
    "# directory with data converted to nemo format\n",
    "data_dir = os.path.join(HOME_DIR, \"multiatis\")\n",
    "\n",
    "run_name = \"test\"\n",
    "config_file = os.path.join(\"/home/rchen/NeMo/examples/nlp/multi-label-intent-slot-classification/conf/multi-label-intent-slot-classification.yaml\")\n",
    "config = OmegaConf.load(config_file)\n",
    "config.model.data_dir = data_dir\n",
    "config.model.validation_ds.prefix = \"dev\"\n",
    "config.model.test_ds.prefix = \"dev\"\n",
    "config.model.intent_loss_weight = 0.6\n",
    "config.model.class_balancing = \"weighted_loss\"\n",
    "config.model.head.num_output_layers = 2\n",
    "config.trainer.max_epochs = 5\n",
    "\n",
    "\n",
    "# checks if we have GPU available and uses it\n",
    "cuda = 1 if torch.cuda.is_available() else 0\n",
    "config.trainer.gpus = cuda\n",
    "\n",
    "# config.trainer.precision = 16 if torch.cuda.is_available() else 32\n",
    "config.trainer.precision = 32\n",
    "\n",
    "# for mixed precision training, uncomment the line below (precision should be set to 16 and amp_level to O1):\n",
    "# config.trainer.amp_level = 'O1'\n",
    "\n",
    "# remove distributed training flags\n",
    "config.trainer.accelerator = None\n",
    "\n",
    "# early_stop_callback = EarlyStopping(monitor='intent_f1', min_delta=1e-1, patience=10, verbose=True, mode='max')\n",
    "\n",
    "trainer = pl.Trainer(**config.trainer)\n",
    "config.exp_manager.exp_dir = os.path.join(HOME_DIR, \"output/\" + run_name)\n",
    "config.exp_manager.create_checkpoint_callback = True\n",
    "config.exp_manager.version = time.strftime('%Y-%m-%d_%H-%M-%S')\n",
    "\n",
    "exp_dir = exp_manager(trainer, config.get(\"exp_manager\", None))\n",
    "model = nemo_nlp.models.MultiLabelIntentSlotClassificationModel(config.model, trainer=trainer)\n",
    "trainer.fit(model)"
   ]
  },
  {
   "cell_type": "markdown",
   "id": "6a690a70",
   "metadata": {},
   "source": [
    "### Evaluation\n",
    "---"
   ]
  },
  {
   "cell_type": "code",
   "execution_count": 3,
   "id": "216f0851",
   "metadata": {
    "scrolled": true
   },
   "outputs": [
    {
     "name": "stdout",
     "output_type": "stream",
     "text": [
      "[NeMo I 2022-01-21 09:24:35 tokenizer_utils:125] Getting HuggingFace AutoTokenizer with pretrained_model_name: bert-base-uncased, vocab_file: /tmp/tmpuel7u8uz/c6e42b8a7b054607bbd3ceac523f4514_vocab.txt, special_tokens_dict: {}, and use_fast: False\n"
     ]
    },
    {
     "name": "stderr",
     "output_type": "stream",
     "text": [
      "Using eos_token, but it is not set yet.\n",
      "Using bos_token, but it is not set yet.\n"
     ]
    },
    {
     "name": "stdout",
     "output_type": "stream",
     "text": [
      "[NeMo I 2022-01-21 09:24:39 multi_label_intent_slot_classification_descriptor:87]  Stats calculating for train mode...\n",
      "[NeMo I 2022-01-21 09:24:39 multi_label_intent_slot_classification_descriptor:113] Three most popular intents in train mode:\n",
      "[NeMo I 2022-01-21 09:24:39 data_preprocessing:194] label: (0, 0, 0, 0, 0, 1, 0, 0, 0, 0, 0, 0, 0, 0, 0, 0, 0), 3309 out of 4478 (73.89%).\n",
      "[NeMo I 2022-01-21 09:24:39 data_preprocessing:194] label: (1, 0, 0, 0, 0, 0, 0, 0, 0, 0, 0, 0, 0, 0, 0, 0, 0), 385 out of 4478 (8.60%).\n",
      "[NeMo I 2022-01-21 09:24:39 data_preprocessing:194] label: (0, 0, 0, 0, 0, 0, 0, 0, 0, 0, 1, 0, 0, 0, 0, 0, 0), 230 out of 4478 (5.14%).\n",
      "[NeMo I 2022-01-21 09:24:39 multi_label_intent_slot_classification_descriptor:119] Three most popular slots in train mode:\n",
      "[NeMo I 2022-01-21 09:24:39 data_preprocessing:194] label: 101, 32066 out of 50497 (63.50%).\n",
      "[NeMo I 2022-01-21 09:24:39 data_preprocessing:194] label: 4, 3919 out of 50497 (7.76%).\n",
      "[NeMo I 2022-01-21 09:24:39 data_preprocessing:194] label: 43, 3892 out of 50497 (7.71%).\n",
      "[NeMo I 2022-01-21 09:24:39 multi_label_intent_slot_classification_descriptor:122] Total Number of Intents: 4478\n",
      "[NeMo I 2022-01-21 09:24:39 multi_label_intent_slot_classification_descriptor:123] Intent Label Frequencies: {(0, 0, 0, 0, 0, 1, 0, 0, 0, 0, 0, 0, 0, 0, 0, 0, 0): 3309, (1, 0, 0, 0, 0, 0, 0, 0, 0, 0, 0, 0, 0, 0, 0, 0, 0): 385, (0, 0, 0, 0, 0, 0, 0, 0, 0, 0, 1, 0, 0, 0, 0, 0, 0): 230, (0, 0, 0, 0, 0, 0, 1, 0, 0, 0, 0, 0, 0, 0, 0, 0, 0): 139, (0, 0, 0, 0, 0, 0, 0, 0, 1, 0, 0, 0, 0, 0, 0, 0, 0): 130, (0, 0, 0, 0, 0, 0, 0, 0, 0, 0, 0, 1, 0, 0, 0, 0, 0): 70, (0, 0, 0, 0, 0, 0, 0, 0, 0, 0, 0, 0, 0, 0, 1, 0, 0): 45, (0, 0, 0, 0, 1, 0, 0, 0, 0, 0, 0, 0, 0, 0, 0, 0, 0): 41, (1, 0, 0, 0, 0, 1, 0, 0, 0, 0, 0, 0, 0, 0, 0, 0, 0): 19, (0, 0, 0, 1, 0, 0, 0, 0, 0, 0, 0, 0, 0, 0, 0, 0, 0): 18, (0, 0, 0, 0, 0, 0, 0, 0, 0, 0, 0, 0, 0, 0, 0, 1, 0): 17, (0, 0, 0, 0, 0, 0, 0, 1, 0, 0, 0, 0, 0, 0, 0, 0, 0): 17, (0, 1, 0, 0, 0, 0, 0, 0, 0, 0, 0, 0, 0, 0, 0, 0, 0): 15, (0, 0, 0, 0, 0, 0, 0, 0, 0, 0, 0, 0, 0, 1, 0, 0, 0): 15, (0, 0, 0, 0, 0, 0, 0, 0, 0, 0, 0, 0, 0, 0, 0, 0, 1): 12, (0, 0, 0, 0, 0, 0, 0, 0, 0, 1, 0, 0, 0, 0, 0, 0, 0): 6, (0, 0, 1, 0, 0, 0, 0, 0, 0, 0, 0, 0, 0, 0, 0, 0, 0): 5, (0, 0, 0, 0, 0, 0, 1, 0, 0, 0, 0, 0, 0, 0, 0, 0, 1): 2, (0, 0, 0, 0, 0, 1, 0, 0, 0, 0, 0, 1, 0, 0, 0, 0, 1): 1, (0, 0, 0, 0, 0, 0, 0, 0, 0, 0, 0, 0, 1, 0, 0, 0, 0): 1, (0, 1, 0, 0, 0, 0, 0, 0, 0, 0, 1, 0, 0, 0, 0, 0, 0): 1}\n",
      "[NeMo I 2022-01-21 09:24:39 multi_label_intent_slot_classification_descriptor:124] Total Number of Slots: 50497\n",
      "[NeMo I 2022-01-21 09:24:39 multi_label_intent_slot_classification_descriptor:125] Slots Label Frequencies: {101: 32066, 4: 3919, 43: 3892, 95: 987, 90: 785, 87: 639, 58: 632, 3: 521, 99: 379, 2: 355, 68: 339, 16: 327, 91: 323, 61: 314, 94: 311, 12: 289, 78: 283, 75: 264, 111: 218, 112: 204, 69: 194, 70: 191, 48: 173, 64: 164, 25: 149, 30: 143, 6: 127, 28: 107, 8: 97, 85: 78, 41: 78, 38: 76, 18: 76, 113: 75, 55: 73, 105: 70, 23: 63, 17: 59, 29: 59, 20: 51, 96: 50, 71: 49, 1: 49, 114: 46, 24: 46, 117: 45, 59: 45, 104: 43, 110: 43, 66: 43, 26: 41, 86: 41, 40: 40, 88: 37, 79: 36, 63: 35, 77: 35, 37: 35, 89: 34, 33: 34, 31: 30, 50: 29, 54: 26, 13: 25, 74: 24, 80: 24, 35: 21, 14: 21, 7: 21, 9: 18, 52: 17, 109: 17, 102: 16, 76: 16, 53: 15, 107: 14, 81: 13, 42: 12, 106: 12, 82: 12, 84: 10, 22: 9, 34: 9, 115: 8, 27: 8, 65: 7, 19: 7, 62: 6, 0: 6, 97: 5, 118: 5, 10: 4, 45: 3, 56: 3, 11: 3, 92: 3, 15: 3, 57: 3, 108: 2, 100: 2, 60: 2, 51: 2, 98: 2, 44: 2, 72: 2, 21: 2, 47: 2, 32: 2, 116: 2, 49: 2, 36: 2, 5: 1, 93: 1, 39: 1, 83: 1, 46: 1, 73: 1, 119: 1, 67: 1, 103: 1}\n",
      "[NeMo I 2022-01-21 09:24:39 multi_label_intent_slot_classification_descriptor:129] Intent Weights: {(0, 0, 0, 0, 0, 1, 0, 0, 0, 0, 0, 0, 0, 0, 0, 0, 0): 0.06444185410640534, (1, 0, 0, 0, 0, 0, 0, 0, 0, 0, 0, 0, 0, 0, 0, 0, 0): 0.553865182436611, (0, 0, 0, 0, 0, 0, 0, 0, 0, 0, 1, 0, 0, 0, 0, 0, 0): 0.9271221532091097, (0, 0, 0, 0, 0, 0, 1, 0, 0, 0, 0, 0, 0, 0, 0, 0, 0): 1.5340870161014046, (0, 0, 0, 0, 0, 0, 0, 0, 1, 0, 0, 0, 0, 0, 0, 0, 0): 1.6402930402930402, (0, 0, 0, 0, 0, 0, 0, 0, 0, 0, 0, 1, 0, 0, 0, 0, 0): 3.0462585034013605, (0, 0, 0, 0, 0, 0, 0, 0, 0, 0, 0, 0, 0, 0, 1, 0, 0): 4.738624338624339, (0, 0, 0, 0, 1, 0, 0, 0, 0, 0, 0, 0, 0, 0, 0, 0, 0): 5.200929152148665, (1, 0, 0, 0, 0, 1, 0, 0, 0, 0, 0, 0, 0, 0, 0, 0, 0): 11.223057644110275, (0, 0, 0, 1, 0, 0, 0, 0, 0, 0, 0, 0, 0, 0, 0, 0, 0): 11.846560846560847, (0, 0, 0, 0, 0, 0, 0, 0, 0, 0, 0, 0, 0, 0, 0, 1, 0): 12.543417366946779, (0, 0, 0, 0, 0, 0, 0, 1, 0, 0, 0, 0, 0, 0, 0, 0, 0): 12.543417366946779, (0, 1, 0, 0, 0, 0, 0, 0, 0, 0, 0, 0, 0, 0, 0, 0, 0): 14.215873015873015, (0, 0, 0, 0, 0, 0, 0, 0, 0, 0, 0, 0, 0, 1, 0, 0, 0): 14.215873015873015, (0, 0, 0, 0, 0, 0, 0, 0, 0, 0, 0, 0, 0, 0, 0, 0, 1): 17.76984126984127, (0, 0, 0, 0, 0, 0, 0, 0, 0, 1, 0, 0, 0, 0, 0, 0, 0): 35.53968253968254, (0, 0, 1, 0, 0, 0, 0, 0, 0, 0, 0, 0, 0, 0, 0, 0, 0): 42.647619047619045, (0, 0, 0, 0, 0, 0, 1, 0, 0, 0, 0, 0, 0, 0, 0, 0, 1): 106.61904761904762, (0, 0, 0, 0, 0, 1, 0, 0, 0, 0, 0, 1, 0, 0, 0, 0, 1): 213.23809523809524, (0, 0, 0, 0, 0, 0, 0, 0, 0, 0, 0, 0, 1, 0, 0, 0, 0): 213.23809523809524, (0, 1, 0, 0, 0, 0, 0, 0, 0, 0, 1, 0, 0, 0, 0, 0, 0): 213.23809523809524}\n",
      "[NeMo I 2022-01-21 09:24:39 multi_label_intent_slot_classification_descriptor:131] Slot Weights: {101: 0.013123193829393542, 4: 0.10737645657905928, 43: 0.10812136005481329, 95: 0.4263508949679162, 90: 0.5360615711252654, 87: 0.6585419926969223, 58: 0.665835970464135, 3: 0.8076935380678183, 99: 1.1103122251539137, 2: 1.18537558685446, 68: 1.2413225172074729, 16: 1.286875637104995, 91: 1.30281217750258, 61: 1.3401539278131636, 94: 1.3530814576634513, 12: 1.4560841983852364, 78: 1.4869552414605418, 75: 1.5939709595959597, 111: 1.9303134556574923, 112: 2.062785947712418, 69: 2.169115120274914, 70: 2.2031849912739965, 48: 2.432418111753372, 64: 2.5659044715447155, 25: 2.8242170022371367, 30: 2.9427156177156175, 6: 3.3134514435695537, 28: 3.9327881619937695, 8: 4.338230240549828, 85: 5.394978632478632, 41: 5.394978632478632, 38: 5.5369517543859645, 18: 5.5369517543859645, 113: 5.610777777777778, 55: 5.764497716894978, 105: 6.011547619047619, 23: 6.679497354497355, 17: 7.132344632768362, 29: 7.132344632768362, 20: 8.251143790849673, 96: 8.416166666666667, 71: 8.587925170068027, 1: 8.587925170068027, 114: 9.148007246376812, 24: 9.148007246376812, 117: 9.351296296296296, 59: 9.351296296296296, 104: 9.786240310077519, 110: 9.786240310077519, 66: 9.786240310077519, 26: 10.263617886178862, 86: 10.263617886178862, 40: 10.520208333333333, 88: 11.373198198198198, 79: 11.68912037037037, 63: 12.023095238095237, 77: 12.023095238095237, 37: 12.023095238095237, 89: 12.37671568627451, 33: 12.37671568627451, 31: 14.026944444444444, 50: 14.510632183908045, 54: 16.184935897435896, 13: 16.832333333333334, 74: 17.533680555555556, 80: 17.533680555555556, 35: 20.038492063492065, 14: 20.038492063492065, 7: 20.038492063492065, 9: 23.37824074074074, 52: 24.75343137254902, 109: 24.75343137254902, 102: 26.300520833333334, 76: 26.300520833333334, 53: 28.05388888888889, 107: 30.057738095238093, 81: 32.36987179487179, 42: 35.06736111111111, 106: 35.06736111111111, 82: 35.06736111111111, 84: 42.08083333333333, 22: 46.75648148148148, 34: 46.75648148148148, 115: 52.60104166666667, 27: 52.60104166666667, 65: 60.11547619047619, 19: 60.11547619047619, 62: 70.13472222222222, 0: 70.13472222222222, 97: 84.16166666666666, 118: 84.16166666666666, 10: 105.20208333333333, 45: 140.26944444444445, 56: 140.26944444444445, 11: 140.26944444444445, 92: 140.26944444444445, 15: 140.26944444444445, 57: 140.26944444444445, 108: 210.40416666666667, 100: 210.40416666666667, 60: 210.40416666666667, 51: 210.40416666666667, 98: 210.40416666666667, 44: 210.40416666666667, 72: 210.40416666666667, 21: 210.40416666666667, 47: 210.40416666666667, 32: 210.40416666666667, 116: 210.40416666666667, 49: 210.40416666666667, 36: 210.40416666666667, 5: 420.80833333333334, 93: 420.80833333333334, 39: 420.80833333333334, 83: 420.80833333333334, 46: 420.80833333333334, 73: 420.80833333333334, 119: 420.80833333333334, 67: 420.80833333333334, 103: 420.80833333333334}\n"
     ]
    },
    {
     "name": "stdout",
     "output_type": "stream",
     "text": [
      "[NeMo I 2022-01-21 09:24:39 multi_label_intent_slot_classification_descriptor:87]  Stats calculating for dev mode...\n",
      "[NeMo I 2022-01-21 09:24:39 multi_label_intent_slot_classification_descriptor:113] Three most popular intents in dev mode:\n",
      "[NeMo I 2022-01-21 09:24:39 data_preprocessing:194] label: (0, 0, 0, 0, 0, 1, 0, 0, 0, 0, 0, 0, 0, 0, 0, 0, 0), 357 out of 500 (71.40%).\n",
      "[NeMo I 2022-01-21 09:24:39 data_preprocessing:194] label: (1, 0, 0, 0, 0, 0, 0, 0, 0, 0, 0, 0, 0, 0, 0, 0, 0), 39 out of 500 (7.80%).\n",
      "[NeMo I 2022-01-21 09:24:39 data_preprocessing:194] label: (0, 0, 0, 0, 0, 0, 0, 0, 0, 0, 1, 0, 0, 0, 0, 0, 0), 25 out of 500 (5.00%).\n",
      "[NeMo I 2022-01-21 09:24:39 multi_label_intent_slot_classification_descriptor:119] Three most popular slots in dev mode:\n",
      "[NeMo I 2022-01-21 09:24:39 data_preprocessing:194] label: 101, 3604 out of 5703 (63.19%).\n",
      "[NeMo I 2022-01-21 09:24:39 data_preprocessing:194] label: 43, 434 out of 5703 (7.61%).\n",
      "[NeMo I 2022-01-21 09:24:39 data_preprocessing:194] label: 4, 424 out of 5703 (7.43%).\n",
      "[NeMo I 2022-01-21 09:24:39 multi_label_intent_slot_classification_descriptor:122] Total Number of Intents: 500\n",
      "[NeMo I 2022-01-21 09:24:39 multi_label_intent_slot_classification_descriptor:123] Intent Label Frequencies: {(0, 0, 0, 0, 0, 1, 0, 0, 0, 0, 0, 0, 0, 0, 0, 0, 0): 357, (1, 0, 0, 0, 0, 0, 0, 0, 0, 0, 0, 0, 0, 0, 0, 0, 0): 39, (0, 0, 0, 0, 0, 0, 0, 0, 0, 0, 1, 0, 0, 0, 0, 0, 0): 25, (0, 0, 0, 0, 0, 0, 1, 0, 0, 0, 0, 0, 0, 0, 0, 0, 0): 18, (0, 0, 0, 0, 0, 0, 0, 0, 1, 0, 0, 0, 0, 0, 0, 0, 0): 17, (0, 0, 0, 0, 0, 0, 0, 0, 0, 0, 0, 1, 0, 0, 0, 0, 0): 11, (0, 0, 0, 0, 1, 0, 0, 0, 0, 0, 0, 0, 0, 0, 0, 0, 0): 10, (0, 0, 0, 0, 0, 0, 0, 0, 0, 0, 0, 0, 0, 0, 1, 0, 0): 9, (0, 0, 0, 0, 0, 0, 0, 0, 0, 0, 0, 0, 0, 0, 0, 1, 0): 3, (0, 1, 0, 0, 0, 0, 0, 0, 0, 0, 0, 0, 0, 0, 0, 0, 0): 3, (0, 0, 0, 0, 0, 0, 0, 1, 0, 0, 0, 0, 0, 0, 0, 0, 0): 3, (1, 0, 0, 0, 0, 1, 0, 0, 0, 0, 0, 0, 0, 0, 0, 0, 0): 2, (0, 0, 1, 0, 0, 0, 0, 0, 0, 0, 0, 0, 0, 0, 0, 0, 0): 1, (0, 0, 0, 0, 0, 0, 0, 0, 0, 0, 0, 0, 0, 1, 0, 0, 0): 1, (0, 0, 0, 1, 0, 0, 0, 0, 0, 0, 0, 0, 0, 0, 0, 0, 0): 1}\n",
      "[NeMo I 2022-01-21 09:24:39 multi_label_intent_slot_classification_descriptor:124] Total Number of Slots: 5703\n",
      "[NeMo I 2022-01-21 09:24:39 multi_label_intent_slot_classification_descriptor:125] Slots Label Frequencies: {101: 3604, 43: 434, 4: 424, 95: 112, 90: 104, 3: 72, 87: 62, 58: 59, 16: 42, 99: 42, 68: 40, 2: 40, 12: 40, 78: 40, 75: 35, 94: 33, 91: 25, 61: 25, 30: 25, 69: 23, 112: 23, 8: 22, 111: 21, 64: 19, 70: 17, 55: 16, 48: 14, 20: 13, 28: 13, 23: 13, 25: 12, 29: 12, 38: 10, 85: 10, 6: 9, 37: 9, 113: 9, 71: 8, 40: 8, 105: 7, 114: 7, 17: 7, 1: 6, 26: 6, 18: 6, 54: 6, 117: 6, 41: 6, 86: 5, 63: 4, 104: 4, 110: 4, 59: 4, 35: 4, 13: 4, 76: 4, 79: 4, 77: 4, 33: 4, 96: 4, 19: 3, 24: 3, 9: 3, 109: 3, 102: 3, 66: 3, 44: 2, 72: 2, 7: 2, 57: 2, 92: 2, 53: 2, 88: 2, 22: 2, 34: 2, 89: 2, 14: 2, 74: 1, 42: 1, 80: 1, 52: 1, 49: 1, 5: 1, 31: 1, 56: 1, 118: 1, 39: 1, 106: 1, 107: 1, 51: 1, 65: 1, 83: 1, 81: 1, 50: 1, 115: 1}\n",
      "[NeMo I 2022-01-21 09:24:39 multi_label_intent_slot_classification_model:149] Labels: {'I-arrive_date.day_number': 0, 'I-cost_relative': 1, 'B-depart_date.day_number': 2, 'B-depart_time.period_of_day': 3, 'B-toloc.city_name': 4, 'B-arrive_date.today_relative': 5, 'B-airline_code': 6, 'B-restriction_code': 7, 'I-fromloc.airport_name': 8, 'B-arrive_time.start_time': 9, 'I-meal_code': 10, 'I-arrive_time.period_of_day': 11, 'B-flight_mod': 12, 'B-airport_code': 13, 'I-transport_type': 14, 'I-today_relative': 15, 'B-depart_time.time': 16, 'B-or': 17, 'B-depart_date.date_relative': 18, 'B-return_date.date_relative': 19, 'B-arrive_time.period_of_day': 20, 'I-depart_time.time_relative': 21, 'I-flight_mod': 22, 'B-fare_basis_code': 23, 'I-toloc.airport_name': 24, 'I-arrive_time.time': 25, 'I-stoploc.city_name': 26, 'I-arrive_time.start_time': 27, 'I-depart_date.day_number': 28, 'B-flight_time': 29, 'B-flight_stop': 30, 'B-aircraft_code': 31, 'B-day_number': 32, 'B-airport_name': 33, 'B-arrive_date.date_relative': 34, 'B-depart_date.year': 35, 'I-return_date.today_relative': 36, 'B-depart_time.period_mod': 37, 'B-toloc.state_code': 38, 'I-fare_basis_code': 39, 'B-transport_type': 40, 'B-flight_number': 41, 'I-depart_time.start_time': 42, 'B-fromloc.city_name': 43, 'B-return_date.month_name': 44, 'B-toloc.country_name': 45, 'B-time_relative': 46, 'B-month_name': 47, 'B-arrive_time.time_relative': 48, 'B-return_time.period_of_day': 49, 'B-mod': 50, 'B-days_code': 51, 'I-depart_time.end_time': 52, 'I-flight_stop': 53, 'I-flight_time': 54, 'B-fromloc.airport_name': 55, 'B-arrive_time.period_mod': 56, 'B-day_name': 57, 'I-fromloc.city_name': 58, 'I-city_name': 59, 'B-today_relative': 60, 'I-round_trip': 61, 'B-meal_code': 62, 'B-toloc.airport_name': 63, 'I-class_type': 64, 'B-state_code': 65, 'B-meal': 66, 'B-return_date.today_relative': 67, 'B-depart_date.month_name': 68, 'B-class_type': 69, 'B-arrive_time.time': 70, 'B-meal_description': 71, 'B-return_date.day_number': 72, 'I-time': 73, 'B-depart_time.start_time': 74, 'I-depart_time.time': 75, 'B-toloc.airport_code': 76, 'B-fromloc.state_name': 77, 'B-depart_time.time_relative': 78, 'B-connect': 79, 'B-depart_time.end_time': 80, 'I-restriction_code': 81, 'I-depart_date.today_relative': 82, 'B-state_name': 83, 'I-economy': 84, 'B-arrive_date.day_name': 85, 'B-fromloc.state_code': 86, 'B-airline_name': 87, 'B-flight_days': 88, 'B-economy': 89, 'B-depart_date.day_name': 90, 'B-round_trip': 91, 'B-period_of_day': 92, 'B-return_date.day_name': 93, 'B-cost_relative': 94, 'I-toloc.city_name': 95, 'I-airport_name': 96, 'B-stoploc.state_code': 97, 'I-arrive_time.time_relative': 98, 'I-airline_name': 99, 'B-time': 100, 'O': 101, 'I-arrive_time.end_time': 102, 'I-meal_description': 103, 'B-arrive_date.month_name': 104, 'B-toloc.state_name': 105, 'I-toloc.state_name': 106, 'B-fromloc.airport_code': 107, 'I-return_date.date_relative': 108, 'B-arrive_time.end_time': 109, 'B-arrive_date.day_number': 110, 'B-stoploc.city_name': 111, 'B-city_name': 112, 'B-depart_date.today_relative': 113, 'B-fare_amount': 114, 'I-fromloc.state_name': 115, 'B-return_time.period_mod': 116, 'I-fare_amount': 117, 'I-depart_time.period_of_day': 118, 'B-stoploc.airport_name': 119}\n",
      "[NeMo I 2022-01-21 09:24:39 multi_label_intent_slot_classification_model:150] Labels mapping saved to : /home/rchen/multiatis/nemo:5f1a00e466d943139b7222cc5b611d85_slot_labels.csv\n",
      "[NeMo I 2022-01-21 09:24:39 multi_label_intent_slot_classification_model:149] Labels: {'atis_airfare': 0, 'atis_ground_fare': 1, 'atis_restriction': 2, 'atis_city': 3, 'atis_quantity': 4, 'atis_flight': 5, 'atis_airline': 6, 'atis_airport': 7, 'atis_abbreviation': 8, 'atis_meal': 9, 'atis_ground_service': 10, 'atis_aircraft': 11, 'atis_cheapest': 12, 'atis_capacity': 13, 'atis_flight_time': 14, 'atis_distance': 15, 'atis_flight_no': 16}\n",
      "[NeMo I 2022-01-21 09:24:39 multi_label_intent_slot_classification_model:150] Labels mapping saved to : /home/rchen/multiatis/nemo:dc8f71feb0bf402aae7c407b375775f8_intent_labels.csv\n"
     ]
    },
    {
     "name": "stderr",
     "output_type": "stream",
     "text": [
      "[NeMo W 2022-01-21 09:24:39 modelPT:136] If you intend to do training or fine-tuning, please call the ModelPT.setup_training_data() method and provide a valid configuration file to setup the train data loader.\n",
      "    Train config : \n",
      "    prefix: train\n",
      "    batch_size: 32\n",
      "    shuffle: true\n",
      "    num_samples: -1\n",
      "    num_workers: 4\n",
      "    drop_last: false\n",
      "    pin_memory: false\n",
      "    \n",
      "[NeMo W 2022-01-21 09:24:39 modelPT:143] If you intend to do validation, please call the ModelPT.setup_validation_data() or ModelPT.setup_multiple_validation_data() method and provide a valid configuration file to setup the validation data loader(s). \n",
      "    Validation config : \n",
      "    prefix: dev\n",
      "    batch_size: 32\n",
      "    shuffle: false\n",
      "    num_samples: -1\n",
      "    num_workers: 2\n",
      "    drop_last: false\n",
      "    pin_memory: false\n",
      "    \n",
      "[NeMo W 2022-01-21 09:24:39 modelPT:149] Please call the ModelPT.setup_test_data() or ModelPT.setup_multiple_test_data() method and provide a valid configuration file to setup the test data loader(s).\n",
      "    Test config : \n",
      "    prefix: dev\n",
      "    batch_size: 32\n",
      "    shuffle: false\n",
      "    num_samples: -1\n",
      "    num_workers: 2\n",
      "    drop_last: false\n",
      "    pin_memory: false\n",
      "    \n",
      "[NeMo W 2022-01-21 09:24:39 modelPT:1088] World size can only be set by PyTorch Lightning Trainer.\n",
      "[NeMo W 2022-01-21 09:24:39 modelPT:203] You tried to register an artifact under config key=tokenizer.vocab_file but an artifact for it has already been registered.\n",
      "Some weights of the model checkpoint at bert-base-uncased were not used when initializing BertModel: ['cls.seq_relationship.bias', 'cls.predictions.transform.dense.weight', 'cls.predictions.decoder.weight', 'cls.predictions.transform.dense.bias', 'cls.predictions.transform.LayerNorm.weight', 'cls.predictions.bias', 'cls.seq_relationship.weight', 'cls.predictions.transform.LayerNorm.bias']\n",
      "- This IS expected if you are initializing BertModel from the checkpoint of a model trained on another task or with another architecture (e.g. initializing a BertForSequenceClassification model from a BertForPreTraining model).\n",
      "- This IS NOT expected if you are initializing BertModel from the checkpoint of a model that you expect to be exactly identical (initializing a BertForSequenceClassification model from a BertForSequenceClassification model).\n",
      "Some weights of the model checkpoint at bert-base-uncased were not used when initializing BertEncoder: ['cls.seq_relationship.bias', 'cls.predictions.transform.dense.weight', 'cls.predictions.decoder.weight', 'cls.predictions.transform.dense.bias', 'cls.predictions.transform.LayerNorm.weight', 'cls.predictions.bias', 'cls.seq_relationship.weight', 'cls.predictions.transform.LayerNorm.bias']\n",
      "- This IS expected if you are initializing BertEncoder from the checkpoint of a model trained on another task or with another architecture (e.g. initializing a BertForSequenceClassification model from a BertForPreTraining model).\n",
      "- This IS NOT expected if you are initializing BertEncoder from the checkpoint of a model that you expect to be exactly identical (initializing a BertForSequenceClassification model from a BertForSequenceClassification model).\n"
     ]
    },
    {
     "name": "stdout",
     "output_type": "stream",
     "text": [
      "WEIGHTED LOSS\n",
      "[NeMo I 2022-01-21 09:24:43 save_restore_connector:149] Model MultiLabelIntentSlotClassificationModel was successfully restored from /home/rchen/output/test/MultiLabelIntentSlot/2022-01-21_08-38-23/checkpoints/MultiLabelIntentSlot.nemo.\n"
     ]
    }
   ],
   "source": [
    "# extract the path of the best checkpoint from the training, you may update it to any other saved checkpoint file\n",
    "checkpoint_path = trainer.checkpoint_callback.best_model_path\n",
    "\n",
    "eval_model= nemo_nlp.models.MultiLabelIntentSlotClassificationModel.restore_from('/home/rchen/output/test/MultiLabelIntentSlot/2022-01-21_08-38-23/checkpoints/MultiLabelIntentSlot.nemo')\n",
    "\n",
    "# load the model from this checkpoint\n",
    "#eval_model = nemo_nlp.models.MultiLabelIntentSlotClassificationModel.load_from_checkpoint(checkpoint_path=checkpoint_path)"
   ]
  },
  {
   "cell_type": "code",
   "execution_count": null,
   "id": "bb7391c0",
   "metadata": {
    "scrolled": true
   },
   "outputs": [],
   "source": [
    "eval_model"
   ]
  },
  {
   "cell_type": "code",
   "execution_count": 4,
   "id": "7a35edde",
   "metadata": {
    "scrolled": true
   },
   "outputs": [
    {
     "name": "stdout",
     "output_type": "stream",
     "text": [
      "[NeMo I 2022-01-21 09:24:51 multi_label_intent_slot_classification_dataset:92] Setting max length to: 22\n",
      "[NeMo I 2022-01-21 09:24:51 data_preprocessing:358] Some stats of the lengths of the sequences:\n",
      "[NeMo I 2022-01-21 09:24:51 data_preprocessing:364] Min: 8 |                  Max: 22 |                  Mean: 14.5 |                  Median: 14.0\n",
      "[NeMo I 2022-01-21 09:24:51 data_preprocessing:366] 75 percentile: 19.00\n",
      "[NeMo I 2022-01-21 09:24:51 data_preprocessing:367] 99 percentile: 21.88\n",
      "[NeMo I 2022-01-21 09:24:51 multi_label_intent_slot_classification_dataset:121] 0 are longer than 22\n",
      "Intent Predictions:\n",
      "[[0.013444727286696434, 0.002968158107250929, 0.002989558270201087, 0.0038464025128632784, 0.005968357436358929, 0.9796890616416931, 0.012039211578667164, 0.003440923523157835, 0.006254768930375576, 0.003423362970352173, 0.005885966122150421, 0.006707846187055111, 0.002850351156666875, 0.0035031591542065144, 0.007512572221457958, 0.004105986561626196, 0.004516006913036108], [0.3433176279067993, 0.010073872283101082, 0.007505383342504501, 0.010137501172721386, 0.017256511375308037, 0.18479681015014648, 0.05236399918794632, 0.009915425442159176, 0.038533151149749756, 0.007502762600779533, 0.05155397579073906, 0.02532925084233284, 0.006295814644545317, 0.00928524974733591, 0.016645297408103943, 0.009958350099623203, 0.009739262983202934], [0.299959659576416, 0.023472661152482033, 0.015658091753721237, 0.020988909527659416, 0.030855098739266396, 0.054037876427173615, 0.09109645336866379, 0.021981550380587578, 0.08838225156068802, 0.014709127135574818, 0.2928139865398407, 0.052220433950424194, 0.013614482246339321, 0.02142435498535633, 0.029736662283539772, 0.019973527640104294, 0.01806541159749031], [0.11207733303308487, 0.0070473793894052505, 0.005380237940698862, 0.007330696098506451, 0.011931571178138256, 0.3130122125148773, 0.03527429699897766, 0.007206580135971308, 0.034693699330091476, 0.005352455656975508, 0.05029374361038208, 0.01753988303244114, 0.004696949850767851, 0.0068896799348294735, 0.012428799644112587, 0.007398866582661867, 0.006941152270883322]]\n",
      "0.9796890616416931\n",
      "PREDICTED INTENTS:\n",
      "[['atis_flight'], [], [], []]\n",
      "[NeMo I 2022-01-21 09:24:52 3152452381:9] The prediction results of some sample queries with the trained model:\n",
      "[NeMo I 2022-01-21 09:24:52 3152452381:13] Query : i would like to find a flight from charlotte to las vegas that makes a stop in st. louis\n",
      "[NeMo I 2022-01-21 09:24:52 3152452381:14] Predicted Intent: ['atis_flight']\n",
      "[NeMo I 2022-01-21 09:24:52 3152452381:13] Query : on april first i need a ticket from tacoma to san jose departing before 7 am\n",
      "[NeMo I 2022-01-21 09:24:52 3152452381:14] Predicted Intent: []\n",
      "[NeMo I 2022-01-21 09:24:52 3152452381:13] Query : how much is the limousine service in boston\n",
      "[NeMo I 2022-01-21 09:24:52 3152452381:14] Predicted Intent: []\n",
      "[NeMo I 2022-01-21 09:24:52 3152452381:13] Query : How do I fly to China\n",
      "[NeMo I 2022-01-21 09:24:52 3152452381:14] Predicted Intent: []\n"
     ]
    }
   ],
   "source": [
    "queries = [\n",
    "    'i would like to find a flight from charlotte to las vegas that makes a stop in st. louis',\n",
    "    'on april first i need a ticket from tacoma to san jose departing before 7 am',\n",
    "    'how much is the limousine service in boston',\n",
    "    'How do I fly to China'\n",
    "]\n",
    "\n",
    "pred_intents, pred_slots = eval_model.predict_from_examples(queries, config.model.test_ds)\n",
    "logging.info('The prediction results of some sample queries with the trained model:')\n",
    "\n",
    "    \n",
    "for query, intent in zip(queries, pred_intents):\n",
    "    logging.info(f'Query : {query}')\n",
    "    logging.info(f'Predicted Intent: {intent}')\n"
   ]
  },
  {
   "cell_type": "code",
   "execution_count": null,
   "id": "96b7df39",
   "metadata": {
    "scrolled": true
   },
   "outputs": [],
   "source": [
    "print(config)"
   ]
  },
  {
   "cell_type": "code",
   "execution_count": null,
   "id": "57250c74",
   "metadata": {
    "scrolled": true
   },
   "outputs": [],
   "source": [
    "config.keys()"
   ]
  },
  {
   "cell_type": "code",
   "execution_count": null,
   "id": "571c52a2",
   "metadata": {
    "scrolled": true
   },
   "outputs": [],
   "source": [
    "checkpoint_path"
   ]
  },
  {
   "cell_type": "code",
   "execution_count": null,
   "id": "c3620c40",
   "metadata": {
    "scrolled": true
   },
   "outputs": [],
   "source": [
    "print(config_file)"
   ]
  },
  {
   "cell_type": "code",
   "execution_count": null,
   "id": "32da13b4",
   "metadata": {
    "scrolled": true
   },
   "outputs": [],
   "source": [
    "config = OmegaConf.load(config_file)"
   ]
  },
  {
   "cell_type": "code",
   "execution_count": null,
   "id": "7c9b2a95",
   "metadata": {
    "scrolled": true
   },
   "outputs": [],
   "source": [
    "checkpoint_path"
   ]
  },
  {
   "cell_type": "code",
   "execution_count": null,
   "id": "37248402",
   "metadata": {
    "scrolled": true
   },
   "outputs": [],
   "source": [
    "!ls /home/rchen/output/test/MultiLabelIntentSlot/"
   ]
  },
  {
   "cell_type": "code",
   "execution_count": null,
   "id": "f602cfe3",
   "metadata": {
    "scrolled": true
   },
   "outputs": [],
   "source": [
    "!ls /home/rchen/output/test/MultiLabelIntentSlot/2022-01-20_11-28-12/checkpoints/MultiLabelIntentSlot.nemo"
   ]
  },
  {
   "cell_type": "markdown",
   "id": "5e0ce81c",
   "metadata": {},
   "source": [
    "### Torch Tensor Experiments \n",
    "---"
   ]
  },
  {
   "cell_type": "code",
   "execution_count": null,
   "id": "febc727e",
   "metadata": {
    "scrolled": true
   },
   "outputs": [],
   "source": [
    "import torch"
   ]
  },
  {
   "cell_type": "code",
   "execution_count": null,
   "id": "45b95506",
   "metadata": {},
   "outputs": [],
   "source": [
    "lst = [[1,3,1], [4,5,6], [7,8,9]]"
   ]
  },
  {
   "cell_type": "code",
   "execution_count": null,
   "id": "9b4b7739",
   "metadata": {},
   "outputs": [],
   "source": [
    "a = torch.tensor(lst)"
   ]
  },
  {
   "cell_type": "code",
   "execution_count": null,
   "id": "463becbc",
   "metadata": {},
   "outputs": [],
   "source": [
    "a"
   ]
  },
  {
   "cell_type": "code",
   "execution_count": null,
   "id": "64236352",
   "metadata": {},
   "outputs": [],
   "source": [
    "a.t()"
   ]
  },
  {
   "cell_type": "code",
   "execution_count": null,
   "id": "43689452",
   "metadata": {},
   "outputs": [],
   "source": [
    "a.t()[0]"
   ]
  },
  {
   "cell_type": "code",
   "execution_count": null,
   "id": "ad84171c",
   "metadata": {},
   "outputs": [],
   "source": [
    "for x in a.t()[0]:\n",
    "    print(x == torch.tensor(1))"
   ]
  },
  {
   "cell_type": "code",
   "execution_count": null,
   "id": "224e4e26",
   "metadata": {},
   "outputs": [],
   "source": [
    "a"
   ]
  },
  {
   "cell_type": "code",
   "execution_count": null,
   "id": "d663e9ca",
   "metadata": {},
   "outputs": [],
   "source": [
    "bst = [[1,2,1], [1,5,1], [1,8,1]]"
   ]
  },
  {
   "cell_type": "code",
   "execution_count": null,
   "id": "659e8e72",
   "metadata": {},
   "outputs": [],
   "source": [
    "b = torch.tensor(bst)"
   ]
  },
  {
   "cell_type": "code",
   "execution_count": null,
   "id": "6fabd1a0",
   "metadata": {},
   "outputs": [],
   "source": [
    "current_label = a[0]\n",
    "labels_predicted = b[0]"
   ]
  },
  {
   "cell_type": "code",
   "execution_count": null,
   "id": "2c156c9b",
   "metadata": {},
   "outputs": [],
   "source": [
    "current_label"
   ]
  },
  {
   "cell_type": "code",
   "execution_count": null,
   "id": "4663a3c7",
   "metadata": {},
   "outputs": [],
   "source": [
    "labels_predicted"
   ]
  },
  {
   "cell_type": "code",
   "execution_count": null,
   "id": "aa42cabd",
   "metadata": {},
   "outputs": [],
   "source": [
    "(current_label == labels_predicted)[current_label == 1].sum()"
   ]
  },
  {
   "cell_type": "code",
   "execution_count": null,
   "id": "d4816a6f",
   "metadata": {},
   "outputs": [],
   "source": [
    "(labels_predicted[current_label] == current_label[labels_predicted]"
   ]
  },
  {
   "cell_type": "code",
   "execution_count": null,
   "id": "e9fc1724",
   "metadata": {},
   "outputs": [],
   "source": [
    "current_label"
   ]
  },
  {
   "cell_type": "code",
   "execution_count": null,
   "id": "5ec208fe",
   "metadata": {},
   "outputs": [],
   "source": [
    "labels_predicted"
   ]
  },
  {
   "cell_type": "code",
   "execution_count": null,
   "id": "e11e017d",
   "metadata": {},
   "outputs": [],
   "source": [
    "a[0]"
   ]
  },
  {
   "cell_type": "code",
   "execution_count": null,
   "id": "809e095a",
   "metadata": {},
   "outputs": [],
   "source": [
    "a[0][current_label]"
   ]
  },
  {
   "cell_type": "code",
   "execution_count": null,
   "id": "45349bd3",
   "metadata": {},
   "outputs": [],
   "source": [
    "labels_predicted[current_label]"
   ]
  },
  {
   "cell_type": "code",
   "execution_count": null,
   "id": "415dfcd3",
   "metadata": {},
   "outputs": [],
   "source": [
    "current_label[labels_predicted]"
   ]
  },
  {
   "cell_type": "code",
   "execution_count": null,
   "id": "4346583d",
   "metadata": {},
   "outputs": [],
   "source": [
    "l = [1,2,3]\n",
    "c = [1,4,3]\n",
    "d = torch.tensor(l) == 1\n",
    "e = torch.tensor(c) == 1"
   ]
  },
  {
   "cell_type": "code",
   "execution_count": null,
   "id": "3550bf12",
   "metadata": {},
   "outputs": [],
   "source": [
    "d == 1"
   ]
  },
  {
   "cell_type": "code",
   "execution_count": null,
   "id": "2073df15",
   "metadata": {},
   "outputs": [],
   "source": [
    "e == 1"
   ]
  },
  {
   "cell_type": "code",
   "execution_count": null,
   "id": "13cdcc52",
   "metadata": {},
   "outputs": [],
   "source": [
    "(d == e)[d]"
   ]
  },
  {
   "cell_type": "code",
   "execution_count": null,
   "id": "c5a3389d",
   "metadata": {},
   "outputs": [],
   "source": [
    "e"
   ]
  },
  {
   "cell_type": "code",
   "execution_count": null,
   "id": "ed2ccef1",
   "metadata": {},
   "outputs": [],
   "source": [
    "d"
   ]
  },
  {
   "cell_type": "code",
   "execution_count": null,
   "id": "45af4b36",
   "metadata": {},
   "outputs": [],
   "source": []
  }
 ],
 "metadata": {
  "kernelspec": {
   "display_name": "Python 3 (ipykernel)",
   "language": "python",
   "name": "python3"
  },
  "language_info": {
   "codemirror_mode": {
    "name": "ipython",
    "version": 3
   },
   "file_extension": ".py",
   "mimetype": "text/x-python",
   "name": "python",
   "nbconvert_exporter": "python",
   "pygments_lexer": "ipython3",
   "version": "3.7.7"
  }
 },
 "nbformat": 4,
 "nbformat_minor": 5
}
